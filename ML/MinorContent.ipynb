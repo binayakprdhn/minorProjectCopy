{
  "nbformat": 4,
  "nbformat_minor": 0,
  "metadata": {
    "colab": {
      "provenance": [],
      "authorship_tag": "ABX9TyMbGZb++3ins93Wq8EsTR+J",
      "include_colab_link": true
    },
    "kernelspec": {
      "name": "python3",
      "display_name": "Python 3"
    },
    "language_info": {
      "name": "python"
    }
  },
  "cells": [
    {
      "cell_type": "markdown",
      "metadata": {
        "id": "view-in-github",
        "colab_type": "text"
      },
      "source": [
        "<a href=\"https://colab.research.google.com/github/YudhirAcharya/MinorProject/blob/main/ML/MinorContent.ipynb\" target=\"_parent\"><img src=\"https://colab.research.google.com/assets/colab-badge.svg\" alt=\"Open In Colab\"/></a>"
      ]
    },
    {
      "cell_type": "code",
      "execution_count": null,
      "metadata": {
        "id": "NK-CeJdANdYF"
      },
      "outputs": [],
      "source": [
        "import numpy as np\n",
        "import pandas as pd"
      ]
    },
    {
      "cell_type": "code",
      "source": [
        "df = pd.read_csv('new indian food dataset.csv')"
      ],
      "metadata": {
        "id": "RUPwdZmzNnLT"
      },
      "execution_count": null,
      "outputs": []
    },
    {
      "cell_type": "code",
      "source": [
        "df.sample"
      ],
      "metadata": {
        "colab": {
          "base_uri": "https://localhost:8080/"
        },
        "id": "Wm5HRk7JWBf8",
        "outputId": "27ebc961-9d0b-4c3e-b47b-a6a85e3544f9"
      },
      "execution_count": null,
      "outputs": [
        {
          "output_type": "execute_result",
          "data": {
            "text/plain": [
              "<bound method NDFrame.sample of       FoodID                               TranslatedRecipeName  \\\n",
              "0        100                               Masala Karela Recipe   \n",
              "1        101                         Spicy Tomato Rice (Recipe)   \n",
              "2        102  Ragi Semiya Upma Recipe - Ragi Millet Vermicel...   \n",
              "3        103  Gongura Chicken Curry Recipe - Andhra Style Go...   \n",
              "4        104  Andhra Style Alam Pachadi Recipe - Adrak Chutn...   \n",
              "...      ...                                                ...   \n",
              "6033      96                       Brown Sugar Oatmeal Pancakes   \n",
              "6034      97                                 Lime Chicken Tacos   \n",
              "6035      98                       Quick Cream of Mushroom Soup   \n",
              "6036      99                               Egg Roll Noodle Bowl   \n",
              "6037     100                      Mamaw Emily’s Strawberry Cake   \n",
              "\n",
              "                                  TranslatedIngredients  TotalTimeInMins  \\\n",
              "0     1 tablespoon Red Chilli powder,3 tablespoon Gr...               45   \n",
              "1      2 teaspoon cashew - or peanuts, 1/2 Teaspoon ...               15   \n",
              "2     1 Onion - sliced,1 teaspoon White Urad Dal (Sp...               50   \n",
              "3     1/2 teaspoon Turmeric powder (Haldi),1 tablesp...               45   \n",
              "4      oil - as per use, 1 tablespoon coriander seed...               30   \n",
              "...                                                 ...              ...   \n",
              "6033                                                NaN               15   \n",
              "6034                                                NaN               20   \n",
              "6035                                                NaN               30   \n",
              "6036                                                NaN               30   \n",
              "6037                                                NaN               60   \n",
              "\n",
              "                   Cuisine                                Cleaned-Ingredients  \\\n",
              "0                   Indian  salt,amchur (dry mango powder),karela (bitter ...   \n",
              "1     South Indian Recipes  tomato,salt,chickpea lentils,green chilli,rice...   \n",
              "2     South Indian Recipes  salt,rice vermicelli noodles (thin),asafoetida...   \n",
              "3                   Andhra  tomato,salt,ginger,sorrel leaves (gongura),fen...   \n",
              "4                   Andhra  tomato,salt,ginger,red chillies,curry,asafoeti...   \n",
              "...                    ...                                                ...   \n",
              "6033              American  flour, brown sugar, baking powder, milk, eggs,...   \n",
              "6034              American     chicken, lime, cumin, salsa, cheese, tortillas   \n",
              "6035              American       onion, garlic, mushrooms, broth, milk, flour   \n",
              "6036              American  ramen noodles, cabbage, carrot, eggs, soy sauc...   \n",
              "6037              American  white cake mix, strawberries, sugar, butter, eggs   \n",
              "\n",
              "                                              image-url  Ingredient-count  \\\n",
              "0     https://www.archanaskitchen.com/images/archana...              10.0   \n",
              "1     https://www.archanaskitchen.com/images/archana...              12.0   \n",
              "2     https://www.archanaskitchen.com/images/archana...              12.0   \n",
              "3     https://www.archanaskitchen.com/images/archana...              15.0   \n",
              "4     https://www.archanaskitchen.com/images/archana...              12.0   \n",
              "...                                                 ...               ...   \n",
              "6033  https://savoryspin.com/wp-content/uploads/2018...               NaN   \n",
              "6034  https://thestayathomechef.com/wp-content/uploa...               NaN   \n",
              "6035  https://www.tasteofhome.com/wp-content/uploads...               NaN   \n",
              "6036  https://www.tasteofhome.com/wp-content/uploads...               NaN   \n",
              "6037  https://www.google.com/imgres?imgurl=https%3A%...               NaN   \n",
              "\n",
              "      price  \n",
              "0        50  \n",
              "1        51  \n",
              "2        52  \n",
              "3        53  \n",
              "4        54  \n",
              "...     ...  \n",
              "6033    816  \n",
              "6034    817  \n",
              "6035    818  \n",
              "6036    819  \n",
              "6037    820  \n",
              "\n",
              "[6038 rows x 9 columns]>"
            ]
          },
          "metadata": {},
          "execution_count": 66
        }
      ]
    },
    {
      "cell_type": "markdown",
      "source": [
        "create tags for food\n",
        "taking foodID , recipe name, cuisine, cleaned ingredients"
      ],
      "metadata": {
        "id": "uKrJMkogwkzC"
      }
    },
    {
      "cell_type": "code",
      "source": [
        "df['Cuisine'].value_counts()"
      ],
      "metadata": {
        "colab": {
          "base_uri": "https://localhost:8080/"
        },
        "id": "oEHuapqUdBE0",
        "outputId": "b8778ebd-9c33-42ed-9116-a9c73bbc7148"
      },
      "execution_count": null,
      "outputs": [
        {
          "output_type": "execute_result",
          "data": {
            "text/plain": [
              "Continental             952\n",
              "Indian                  927\n",
              "North Indian Recipes    763\n",
              "South Indian Recipes    558\n",
              "Italian Recipes         231\n",
              "                       ... \n",
              "Burmese                   1\n",
              "Shandong                  1\n",
              "Brunch                    1\n",
              "Lunch                     1\n",
              "Dessert                   1\n",
              "Name: Cuisine, Length: 82, dtype: int64"
            ]
          },
          "metadata": {},
          "execution_count": 67
        }
      ]
    },
    {
      "cell_type": "code",
      "source": [],
      "metadata": {
        "id": "vJTBnYJ4VLoA"
      },
      "execution_count": null,
      "outputs": []
    },
    {
      "cell_type": "code",
      "source": [
        "df.info()"
      ],
      "metadata": {
        "colab": {
          "base_uri": "https://localhost:8080/"
        },
        "id": "phYmmh3MyPfv",
        "outputId": "9f2abe78-3240-4da0-c4ba-b3c6e58b09c6"
      },
      "execution_count": null,
      "outputs": [
        {
          "output_type": "stream",
          "name": "stdout",
          "text": [
            "<class 'pandas.core.frame.DataFrame'>\n",
            "RangeIndex: 6038 entries, 0 to 6037\n",
            "Data columns (total 9 columns):\n",
            " #   Column                 Non-Null Count  Dtype  \n",
            "---  ------                 --------------  -----  \n",
            " 0   FoodID                 6038 non-null   int64  \n",
            " 1   TranslatedRecipeName   6038 non-null   object \n",
            " 2   TranslatedIngredients  5938 non-null   object \n",
            " 3   TotalTimeInMins        6038 non-null   int64  \n",
            " 4   Cuisine                6038 non-null   object \n",
            " 5   Cleaned-Ingredients    6038 non-null   object \n",
            " 6   image-url              6038 non-null   object \n",
            " 7   Ingredient-count       5938 non-null   float64\n",
            " 8   price                  6038 non-null   int64  \n",
            "dtypes: float64(1), int64(3), object(5)\n",
            "memory usage: 424.7+ KB\n"
          ]
        }
      ]
    },
    {
      "cell_type": "code",
      "source": [
        "df.isnull().sum()"
      ],
      "metadata": {
        "colab": {
          "base_uri": "https://localhost:8080/"
        },
        "id": "YFoEE8uU3LZM",
        "outputId": "c5f8d930-8d9f-47da-dcc6-3d5576a92048"
      },
      "execution_count": null,
      "outputs": [
        {
          "output_type": "execute_result",
          "data": {
            "text/plain": [
              "FoodID                     0\n",
              "TranslatedRecipeName       0\n",
              "TranslatedIngredients    100\n",
              "TotalTimeInMins            0\n",
              "Cuisine                    0\n",
              "Cleaned-Ingredients        0\n",
              "image-url                  0\n",
              "Ingredient-count         100\n",
              "price                      0\n",
              "dtype: int64"
            ]
          },
          "metadata": {},
          "execution_count": 69
        }
      ]
    },
    {
      "cell_type": "markdown",
      "source": [
        "data preprocessing"
      ],
      "metadata": {
        "id": "-lKZYhSN0I8B"
      }
    },
    {
      "cell_type": "code",
      "source": [
        "df = df[['FoodID', 'TranslatedRecipeName', 'Cuisine', 'Cleaned-Ingredients']]"
      ],
      "metadata": {
        "id": "3b2bWy_1zkES"
      },
      "execution_count": null,
      "outputs": []
    },
    {
      "cell_type": "code",
      "source": [
        "df.info()"
      ],
      "metadata": {
        "colab": {
          "base_uri": "https://localhost:8080/"
        },
        "id": "kedAvKKG0oN3",
        "outputId": "8d0dd910-5457-4d3e-c94f-90960f298137"
      },
      "execution_count": null,
      "outputs": [
        {
          "output_type": "stream",
          "name": "stdout",
          "text": [
            "<class 'pandas.core.frame.DataFrame'>\n",
            "RangeIndex: 6038 entries, 0 to 6037\n",
            "Data columns (total 4 columns):\n",
            " #   Column                Non-Null Count  Dtype \n",
            "---  ------                --------------  ----- \n",
            " 0   FoodID                6038 non-null   int64 \n",
            " 1   TranslatedRecipeName  6038 non-null   object\n",
            " 2   Cuisine               6038 non-null   object\n",
            " 3   Cleaned-Ingredients   6038 non-null   object\n",
            "dtypes: int64(1), object(3)\n",
            "memory usage: 188.8+ KB\n"
          ]
        }
      ]
    },
    {
      "cell_type": "code",
      "source": [
        "df.duplicated().sum()"
      ],
      "metadata": {
        "colab": {
          "base_uri": "https://localhost:8080/"
        },
        "id": "-_zv0GkQ0vQ_",
        "outputId": "e947a402-81a4-4c93-ea5d-fa833c839ac9"
      },
      "execution_count": null,
      "outputs": [
        {
          "output_type": "execute_result",
          "data": {
            "text/plain": [
              "0"
            ]
          },
          "metadata": {},
          "execution_count": 72
        }
      ]
    },
    {
      "cell_type": "code",
      "source": [
        "df.iloc[0] #first row"
      ],
      "metadata": {
        "colab": {
          "base_uri": "https://localhost:8080/"
        },
        "id": "0LJ3rPZi3E2m",
        "outputId": "e7650abf-3639-4bca-a2cb-ee6860310f60"
      },
      "execution_count": null,
      "outputs": [
        {
          "output_type": "execute_result",
          "data": {
            "text/plain": [
              "FoodID                                                                100\n",
              "TranslatedRecipeName                                 Masala Karela Recipe\n",
              "Cuisine                                                            Indian\n",
              "Cleaned-Ingredients     salt,amchur (dry mango powder),karela (bitter ...\n",
              "Name: 0, dtype: object"
            ]
          },
          "metadata": {},
          "execution_count": 73
        }
      ]
    },
    {
      "cell_type": "code",
      "source": [
        "df.iloc[0]['Cleaned-Ingredients']"
      ],
      "metadata": {
        "colab": {
          "base_uri": "https://localhost:8080/",
          "height": 53
        },
        "id": "1WJJhG3c5k3N",
        "outputId": "fde1e9de-b827-4152-b602-0f22062a12fe"
      },
      "execution_count": null,
      "outputs": [
        {
          "output_type": "execute_result",
          "data": {
            "text/plain": [
              "'salt,amchur (dry mango powder),karela (bitter gourd pavakkai),red chilli powder,gram flour (besan),onion,cumin seeds (jeera),coriander powder,turmeric powder,sunflower oil'"
            ],
            "application/vnd.google.colaboratory.intrinsic+json": {
              "type": "string"
            }
          },
          "metadata": {},
          "execution_count": 74
        }
      ]
    },
    {
      "cell_type": "code",
      "source": [],
      "metadata": {
        "id": "VvfAfUl05spT"
      },
      "execution_count": null,
      "outputs": []
    },
    {
      "cell_type": "markdown",
      "source": [
        "we need to remove powder, seed, salt, oil, flour, cold, sugar, tumeric,"
      ],
      "metadata": {
        "id": "LzbZOj4T8cah"
      }
    },
    {
      "cell_type": "code",
      "source": [
        "\n"
      ],
      "metadata": {
        "id": "N9vOcFf091Fz"
      },
      "execution_count": null,
      "outputs": []
    },
    {
      "cell_type": "code",
      "source": [
        "df.loc[0]"
      ],
      "metadata": {
        "colab": {
          "base_uri": "https://localhost:8080/"
        },
        "id": "E3nz3jgt-kap",
        "outputId": "6fdd7a85-caf1-43dd-f9c1-79d3fed5b8bf"
      },
      "execution_count": null,
      "outputs": [
        {
          "output_type": "execute_result",
          "data": {
            "text/plain": [
              "FoodID                                                                100\n",
              "TranslatedRecipeName                                 Masala Karela Recipe\n",
              "Cuisine                                                            Indian\n",
              "Cleaned-Ingredients     salt,amchur (dry mango powder),karela (bitter ...\n",
              "Name: 0, dtype: object"
            ]
          },
          "metadata": {},
          "execution_count": 75
        }
      ]
    },
    {
      "cell_type": "code",
      "source": [
        "df.loc[0]"
      ],
      "metadata": {
        "colab": {
          "base_uri": "https://localhost:8080/"
        },
        "id": "w1WZUa52_IuP",
        "outputId": "662daea8-ce69-4118-f4bb-600adbf313df"
      },
      "execution_count": null,
      "outputs": [
        {
          "output_type": "execute_result",
          "data": {
            "text/plain": [
              "FoodID                                                                100\n",
              "TranslatedRecipeName                                 Masala Karela Recipe\n",
              "Cuisine                                                            Indian\n",
              "Cleaned-Ingredients     salt,amchur (dry mango powder),karela (bitter ...\n",
              "Name: 0, dtype: object"
            ]
          },
          "metadata": {},
          "execution_count": 76
        }
      ]
    },
    {
      "cell_type": "code",
      "source": [
        "# Remove spaces and parentheses\n",
        "import re\n",
        "def clean_ingredients(ingredient):\n",
        "\n",
        "    cleaned_ingredient = re.sub(r'[\\s\\(\\)]', '', ingredient) #\\s whitespace, \\( \\) parentheses, '' replace, input\n",
        "    return cleaned_ingredient\n",
        "df['Cleaned-Ingredients'] = df['Cleaned-Ingredients'].apply(lambda x: ','.join([clean_ingredients(ingredient) for ingredient in x.split(',')]))\n"
      ],
      "metadata": {
        "colab": {
          "base_uri": "https://localhost:8080/"
        },
        "id": "MHylG9Hj2J9X",
        "outputId": "25446bae-f12b-4f51-f3e3-cce47e4691dc"
      },
      "execution_count": null,
      "outputs": [
        {
          "output_type": "stream",
          "name": "stderr",
          "text": [
            "<ipython-input-77-d02c5a474ed5>:7: SettingWithCopyWarning: \n",
            "A value is trying to be set on a copy of a slice from a DataFrame.\n",
            "Try using .loc[row_indexer,col_indexer] = value instead\n",
            "\n",
            "See the caveats in the documentation: https://pandas.pydata.org/pandas-docs/stable/user_guide/indexing.html#returning-a-view-versus-a-copy\n",
            "  df['Cleaned-Ingredients'] = df['Cleaned-Ingredients'].apply(lambda x: ','.join([clean_ingredients(ingredient) for ingredient in x.split(',')]))\n"
          ]
        }
      ]
    },
    {
      "cell_type": "code",
      "source": [],
      "metadata": {
        "id": "fRn7khkyyzdz"
      },
      "execution_count": null,
      "outputs": []
    },
    {
      "cell_type": "code",
      "source": [
        "df.sample\n"
      ],
      "metadata": {
        "colab": {
          "base_uri": "https://localhost:8080/"
        },
        "id": "KpAYH9_Ny5Zo",
        "outputId": "802d8e81-6af4-4c8f-ffdd-7d9c7b24adb1"
      },
      "execution_count": null,
      "outputs": [
        {
          "output_type": "execute_result",
          "data": {
            "text/plain": [
              "<bound method NDFrame.sample of       FoodID                               TranslatedRecipeName  \\\n",
              "0        100                               Masala Karela Recipe   \n",
              "1        101                         Spicy Tomato Rice (Recipe)   \n",
              "2        102  Ragi Semiya Upma Recipe - Ragi Millet Vermicel...   \n",
              "3        103  Gongura Chicken Curry Recipe - Andhra Style Go...   \n",
              "4        104  Andhra Style Alam Pachadi Recipe - Adrak Chutn...   \n",
              "...      ...                                                ...   \n",
              "6033      96                       Brown Sugar Oatmeal Pancakes   \n",
              "6034      97                                 Lime Chicken Tacos   \n",
              "6035      98                       Quick Cream of Mushroom Soup   \n",
              "6036      99                               Egg Roll Noodle Bowl   \n",
              "6037     100                      Mamaw Emily’s Strawberry Cake   \n",
              "\n",
              "                   Cuisine                                Cleaned-Ingredients  \n",
              "0                   Indian  salt,amchurdrymangopowder,karelabittergourdpav...  \n",
              "1     South Indian Recipes  tomato,salt,chickpealentils,greenchilli,rice,m...  \n",
              "2     South Indian Recipes  salt,ricevermicellinoodlesthin,asafoetidahing,...  \n",
              "3                   Andhra  tomato,salt,ginger,sorrelleavesgongura,fennels...  \n",
              "4                   Andhra  tomato,salt,ginger,redchillies,curry,asafoetid...  \n",
              "...                    ...                                                ...  \n",
              "6033              American       flour,brownsugar,bakingpowder,milk,eggs,oats  \n",
              "6034              American          chicken,lime,cumin,salsa,cheese,tortillas  \n",
              "6035              American            onion,garlic,mushrooms,broth,milk,flour  \n",
              "6036              American  ramennoodles,cabbage,carrot,eggs,soysauce,sesa...  \n",
              "6037              American        whitecakemix,strawberries,sugar,butter,eggs  \n",
              "\n",
              "[6038 rows x 4 columns]>"
            ]
          },
          "metadata": {},
          "execution_count": 78
        }
      ]
    },
    {
      "cell_type": "code",
      "source": [
        "#redundant\n",
        "#df['Cleaned-Ingredients'] = df['Cleaned-Ingredients'].apply(lambda x: ','.join([word.replace(\" \", \"\") for word in x]))\n"
      ],
      "metadata": {
        "id": "J6RE6vpczQB_"
      },
      "execution_count": null,
      "outputs": []
    },
    {
      "cell_type": "code",
      "source": [
        "#abc def -> abcdef   -redundant\n",
        "#df['Cleaned-Ingredients'] = df['Cleaned-Ingredients'].apply(lambda x: [i.replace(\" \", \"\") for i in x])"
      ],
      "metadata": {
        "id": "trORd79TwcNO"
      },
      "execution_count": null,
      "outputs": []
    },
    {
      "cell_type": "code",
      "source": [
        "#remove ()  -redundant\n",
        "# df['Cleaned-Ingredients'] = df['Cleaned-Ingredients'].str.replace(r'\\(|\\)', '', regex=True)\n"
      ],
      "metadata": {
        "id": "zNeWrMGr_pv5"
      },
      "execution_count": null,
      "outputs": []
    },
    {
      "cell_type": "code",
      "source": [
        "df.sample"
      ],
      "metadata": {
        "colab": {
          "base_uri": "https://localhost:8080/"
        },
        "id": "hcug794R_0R4",
        "outputId": "6418cabf-e972-4649-ef90-569e27d08162"
      },
      "execution_count": null,
      "outputs": [
        {
          "output_type": "execute_result",
          "data": {
            "text/plain": [
              "<bound method NDFrame.sample of       FoodID                               TranslatedRecipeName  \\\n",
              "0        100                               Masala Karela Recipe   \n",
              "1        101                         Spicy Tomato Rice (Recipe)   \n",
              "2        102  Ragi Semiya Upma Recipe - Ragi Millet Vermicel...   \n",
              "3        103  Gongura Chicken Curry Recipe - Andhra Style Go...   \n",
              "4        104  Andhra Style Alam Pachadi Recipe - Adrak Chutn...   \n",
              "...      ...                                                ...   \n",
              "6033      96                       Brown Sugar Oatmeal Pancakes   \n",
              "6034      97                                 Lime Chicken Tacos   \n",
              "6035      98                       Quick Cream of Mushroom Soup   \n",
              "6036      99                               Egg Roll Noodle Bowl   \n",
              "6037     100                      Mamaw Emily’s Strawberry Cake   \n",
              "\n",
              "                   Cuisine                                Cleaned-Ingredients  \n",
              "0                   Indian  salt,amchurdrymangopowder,karelabittergourdpav...  \n",
              "1     South Indian Recipes  tomato,salt,chickpealentils,greenchilli,rice,m...  \n",
              "2     South Indian Recipes  salt,ricevermicellinoodlesthin,asafoetidahing,...  \n",
              "3                   Andhra  tomato,salt,ginger,sorrelleavesgongura,fennels...  \n",
              "4                   Andhra  tomato,salt,ginger,redchillies,curry,asafoetid...  \n",
              "...                    ...                                                ...  \n",
              "6033              American       flour,brownsugar,bakingpowder,milk,eggs,oats  \n",
              "6034              American          chicken,lime,cumin,salsa,cheese,tortillas  \n",
              "6035              American            onion,garlic,mushrooms,broth,milk,flour  \n",
              "6036              American  ramennoodles,cabbage,carrot,eggs,soysauce,sesa...  \n",
              "6037              American        whitecakemix,strawberries,sugar,butter,eggs  \n",
              "\n",
              "[6038 rows x 4 columns]>"
            ]
          },
          "metadata": {},
          "execution_count": 82
        }
      ]
    },
    {
      "cell_type": "code",
      "source": [
        "#creating array\n",
        "df['Cleaned-Ingredients'] = df['Cleaned-Ingredients'].apply(lambda x: x.split())\n"
      ],
      "metadata": {
        "colab": {
          "base_uri": "https://localhost:8080/"
        },
        "id": "mkgZAuQM_38w",
        "outputId": "fac52a21-7c62-4eda-ec72-68488ffa110e"
      },
      "execution_count": null,
      "outputs": [
        {
          "output_type": "stream",
          "name": "stderr",
          "text": [
            "<ipython-input-83-d9f20a0c3ff3>:2: SettingWithCopyWarning: \n",
            "A value is trying to be set on a copy of a slice from a DataFrame.\n",
            "Try using .loc[row_indexer,col_indexer] = value instead\n",
            "\n",
            "See the caveats in the documentation: https://pandas.pydata.org/pandas-docs/stable/user_guide/indexing.html#returning-a-view-versus-a-copy\n",
            "  df['Cleaned-Ingredients'] = df['Cleaned-Ingredients'].apply(lambda x: x.split())\n"
          ]
        }
      ]
    },
    {
      "cell_type": "code",
      "source": [],
      "metadata": {
        "id": "RCDyfwJRI4IF"
      },
      "execution_count": null,
      "outputs": []
    },
    {
      "cell_type": "code",
      "source": [
        "df.sample"
      ],
      "metadata": {
        "colab": {
          "base_uri": "https://localhost:8080/"
        },
        "id": "3j6sNFk8ANVY",
        "outputId": "24de3f39-41ea-4496-aa2c-be0343940a77"
      },
      "execution_count": null,
      "outputs": [
        {
          "output_type": "execute_result",
          "data": {
            "text/plain": [
              "<bound method NDFrame.sample of       FoodID                               TranslatedRecipeName  \\\n",
              "0        100                               Masala Karela Recipe   \n",
              "1        101                         Spicy Tomato Rice (Recipe)   \n",
              "2        102  Ragi Semiya Upma Recipe - Ragi Millet Vermicel...   \n",
              "3        103  Gongura Chicken Curry Recipe - Andhra Style Go...   \n",
              "4        104  Andhra Style Alam Pachadi Recipe - Adrak Chutn...   \n",
              "...      ...                                                ...   \n",
              "6033      96                       Brown Sugar Oatmeal Pancakes   \n",
              "6034      97                                 Lime Chicken Tacos   \n",
              "6035      98                       Quick Cream of Mushroom Soup   \n",
              "6036      99                               Egg Roll Noodle Bowl   \n",
              "6037     100                      Mamaw Emily’s Strawberry Cake   \n",
              "\n",
              "                   Cuisine                                Cleaned-Ingredients  \n",
              "0                   Indian  [salt,amchurdrymangopowder,karelabittergourdpa...  \n",
              "1     South Indian Recipes  [tomato,salt,chickpealentils,greenchilli,rice,...  \n",
              "2     South Indian Recipes  [salt,ricevermicellinoodlesthin,asafoetidahing...  \n",
              "3                   Andhra  [tomato,salt,ginger,sorrelleavesgongura,fennel...  \n",
              "4                   Andhra  [tomato,salt,ginger,redchillies,curry,asafoeti...  \n",
              "...                    ...                                                ...  \n",
              "6033              American     [flour,brownsugar,bakingpowder,milk,eggs,oats]  \n",
              "6034              American        [chicken,lime,cumin,salsa,cheese,tortillas]  \n",
              "6035              American          [onion,garlic,mushrooms,broth,milk,flour]  \n",
              "6036              American  [ramennoodles,cabbage,carrot,eggs,soysauce,ses...  \n",
              "6037              American      [whitecakemix,strawberries,sugar,butter,eggs]  \n",
              "\n",
              "[6038 rows x 4 columns]>"
            ]
          },
          "metadata": {},
          "execution_count": 84
        }
      ]
    },
    {
      "cell_type": "code",
      "source": [
        "#for cuisine\n",
        "df['Cuisine'] = df['Cuisine'].apply(lambda x: ','.join([clean_ingredients(ingredient) for ingredient in x.split(',')]))\n",
        "#array\n"
      ],
      "metadata": {
        "colab": {
          "base_uri": "https://localhost:8080/"
        },
        "id": "XntHSuSwAY8W",
        "outputId": "d983d3c5-1121-4b76-fabe-d3498bf859ec"
      },
      "execution_count": null,
      "outputs": [
        {
          "output_type": "stream",
          "name": "stderr",
          "text": [
            "<ipython-input-85-a0506e03271b>:2: SettingWithCopyWarning: \n",
            "A value is trying to be set on a copy of a slice from a DataFrame.\n",
            "Try using .loc[row_indexer,col_indexer] = value instead\n",
            "\n",
            "See the caveats in the documentation: https://pandas.pydata.org/pandas-docs/stable/user_guide/indexing.html#returning-a-view-versus-a-copy\n",
            "  df['Cuisine'] = df['Cuisine'].apply(lambda x: ','.join([clean_ingredients(ingredient) for ingredient in x.split(',')]))\n"
          ]
        }
      ]
    },
    {
      "cell_type": "code",
      "source": [
        "df.sample\n"
      ],
      "metadata": {
        "id": "xRTfRzD8JIuQ",
        "colab": {
          "base_uri": "https://localhost:8080/"
        },
        "outputId": "0f235c0b-0b6f-4493-889f-7ad7e944aa0c"
      },
      "execution_count": null,
      "outputs": [
        {
          "output_type": "execute_result",
          "data": {
            "text/plain": [
              "<bound method NDFrame.sample of       FoodID                               TranslatedRecipeName  \\\n",
              "0        100                               Masala Karela Recipe   \n",
              "1        101                         Spicy Tomato Rice (Recipe)   \n",
              "2        102  Ragi Semiya Upma Recipe - Ragi Millet Vermicel...   \n",
              "3        103  Gongura Chicken Curry Recipe - Andhra Style Go...   \n",
              "4        104  Andhra Style Alam Pachadi Recipe - Adrak Chutn...   \n",
              "...      ...                                                ...   \n",
              "6033      96                       Brown Sugar Oatmeal Pancakes   \n",
              "6034      97                                 Lime Chicken Tacos   \n",
              "6035      98                       Quick Cream of Mushroom Soup   \n",
              "6036      99                               Egg Roll Noodle Bowl   \n",
              "6037     100                      Mamaw Emily’s Strawberry Cake   \n",
              "\n",
              "                 Cuisine                                Cleaned-Ingredients  \n",
              "0                 Indian  [salt,amchurdrymangopowder,karelabittergourdpa...  \n",
              "1     SouthIndianRecipes  [tomato,salt,chickpealentils,greenchilli,rice,...  \n",
              "2     SouthIndianRecipes  [salt,ricevermicellinoodlesthin,asafoetidahing...  \n",
              "3                 Andhra  [tomato,salt,ginger,sorrelleavesgongura,fennel...  \n",
              "4                 Andhra  [tomato,salt,ginger,redchillies,curry,asafoeti...  \n",
              "...                  ...                                                ...  \n",
              "6033            American     [flour,brownsugar,bakingpowder,milk,eggs,oats]  \n",
              "6034            American        [chicken,lime,cumin,salsa,cheese,tortillas]  \n",
              "6035            American          [onion,garlic,mushrooms,broth,milk,flour]  \n",
              "6036            American  [ramennoodles,cabbage,carrot,eggs,soysauce,ses...  \n",
              "6037            American      [whitecakemix,strawberries,sugar,butter,eggs]  \n",
              "\n",
              "[6038 rows x 4 columns]>"
            ]
          },
          "metadata": {},
          "execution_count": 86
        }
      ]
    },
    {
      "cell_type": "code",
      "source": [
        "#array for cuisine\n",
        "df['Cuisine'] = df['Cuisine'].apply(lambda x: x.split())\n"
      ],
      "metadata": {
        "colab": {
          "base_uri": "https://localhost:8080/"
        },
        "id": "67UtmCUq3jv0",
        "outputId": "776e879d-8955-49c9-cf6a-8ba6e633257a"
      },
      "execution_count": null,
      "outputs": [
        {
          "output_type": "stream",
          "name": "stderr",
          "text": [
            "<ipython-input-87-04436b234119>:2: SettingWithCopyWarning: \n",
            "A value is trying to be set on a copy of a slice from a DataFrame.\n",
            "Try using .loc[row_indexer,col_indexer] = value instead\n",
            "\n",
            "See the caveats in the documentation: https://pandas.pydata.org/pandas-docs/stable/user_guide/indexing.html#returning-a-view-versus-a-copy\n",
            "  df['Cuisine'] = df['Cuisine'].apply(lambda x: x.split())\n"
          ]
        }
      ]
    },
    {
      "cell_type": "code",
      "source": [
        "df.sample"
      ],
      "metadata": {
        "colab": {
          "base_uri": "https://localhost:8080/"
        },
        "id": "zaTyJcRp30Ac",
        "outputId": "98404fbb-8f12-44c6-8736-fe70e4619d79"
      },
      "execution_count": null,
      "outputs": [
        {
          "output_type": "execute_result",
          "data": {
            "text/plain": [
              "<bound method NDFrame.sample of       FoodID                               TranslatedRecipeName  \\\n",
              "0        100                               Masala Karela Recipe   \n",
              "1        101                         Spicy Tomato Rice (Recipe)   \n",
              "2        102  Ragi Semiya Upma Recipe - Ragi Millet Vermicel...   \n",
              "3        103  Gongura Chicken Curry Recipe - Andhra Style Go...   \n",
              "4        104  Andhra Style Alam Pachadi Recipe - Adrak Chutn...   \n",
              "...      ...                                                ...   \n",
              "6033      96                       Brown Sugar Oatmeal Pancakes   \n",
              "6034      97                                 Lime Chicken Tacos   \n",
              "6035      98                       Quick Cream of Mushroom Soup   \n",
              "6036      99                               Egg Roll Noodle Bowl   \n",
              "6037     100                      Mamaw Emily’s Strawberry Cake   \n",
              "\n",
              "                   Cuisine                                Cleaned-Ingredients  \n",
              "0                 [Indian]  [salt,amchurdrymangopowder,karelabittergourdpa...  \n",
              "1     [SouthIndianRecipes]  [tomato,salt,chickpealentils,greenchilli,rice,...  \n",
              "2     [SouthIndianRecipes]  [salt,ricevermicellinoodlesthin,asafoetidahing...  \n",
              "3                 [Andhra]  [tomato,salt,ginger,sorrelleavesgongura,fennel...  \n",
              "4                 [Andhra]  [tomato,salt,ginger,redchillies,curry,asafoeti...  \n",
              "...                    ...                                                ...  \n",
              "6033            [American]     [flour,brownsugar,bakingpowder,milk,eggs,oats]  \n",
              "6034            [American]        [chicken,lime,cumin,salsa,cheese,tortillas]  \n",
              "6035            [American]          [onion,garlic,mushrooms,broth,milk,flour]  \n",
              "6036            [American]  [ramennoodles,cabbage,carrot,eggs,soysauce,ses...  \n",
              "6037            [American]      [whitecakemix,strawberries,sugar,butter,eggs]  \n",
              "\n",
              "[6038 rows x 4 columns]>"
            ]
          },
          "metadata": {},
          "execution_count": 88
        }
      ]
    },
    {
      "cell_type": "code",
      "source": [
        "#removing items\n",
        "remove_array = ['salt', 'sugar']\n",
        "df['Cleaned-Ingredients'] = df['Cleaned-Ingredients'].apply(lambda x: [item for item in x if item not in remove_array])\n"
      ],
      "metadata": {
        "colab": {
          "base_uri": "https://localhost:8080/"
        },
        "id": "B3uQa7cv32bU",
        "outputId": "e1326dc2-5a98-4529-931d-51c211d70e37"
      },
      "execution_count": null,
      "outputs": [
        {
          "output_type": "stream",
          "name": "stderr",
          "text": [
            "<ipython-input-89-895d1c592aa5>:3: SettingWithCopyWarning: \n",
            "A value is trying to be set on a copy of a slice from a DataFrame.\n",
            "Try using .loc[row_indexer,col_indexer] = value instead\n",
            "\n",
            "See the caveats in the documentation: https://pandas.pydata.org/pandas-docs/stable/user_guide/indexing.html#returning-a-view-versus-a-copy\n",
            "  df['Cleaned-Ingredients'] = df['Cleaned-Ingredients'].apply(lambda x: [item for item in x if item not in remove_array])\n"
          ]
        }
      ]
    },
    {
      "cell_type": "code",
      "source": [
        "df.sample"
      ],
      "metadata": {
        "colab": {
          "base_uri": "https://localhost:8080/"
        },
        "id": "f6OzMi4F5jFJ",
        "outputId": "9366bc26-759b-49e7-8b34-60a9df79fba0"
      },
      "execution_count": null,
      "outputs": [
        {
          "output_type": "execute_result",
          "data": {
            "text/plain": [
              "<bound method NDFrame.sample of       FoodID                               TranslatedRecipeName  \\\n",
              "0        100                               Masala Karela Recipe   \n",
              "1        101                         Spicy Tomato Rice (Recipe)   \n",
              "2        102  Ragi Semiya Upma Recipe - Ragi Millet Vermicel...   \n",
              "3        103  Gongura Chicken Curry Recipe - Andhra Style Go...   \n",
              "4        104  Andhra Style Alam Pachadi Recipe - Adrak Chutn...   \n",
              "...      ...                                                ...   \n",
              "6033      96                       Brown Sugar Oatmeal Pancakes   \n",
              "6034      97                                 Lime Chicken Tacos   \n",
              "6035      98                       Quick Cream of Mushroom Soup   \n",
              "6036      99                               Egg Roll Noodle Bowl   \n",
              "6037     100                      Mamaw Emily’s Strawberry Cake   \n",
              "\n",
              "                   Cuisine                                Cleaned-Ingredients  \n",
              "0                 [Indian]  [salt,amchurdrymangopowder,karelabittergourdpa...  \n",
              "1     [SouthIndianRecipes]  [tomato,salt,chickpealentils,greenchilli,rice,...  \n",
              "2     [SouthIndianRecipes]  [salt,ricevermicellinoodlesthin,asafoetidahing...  \n",
              "3                 [Andhra]  [tomato,salt,ginger,sorrelleavesgongura,fennel...  \n",
              "4                 [Andhra]  [tomato,salt,ginger,redchillies,curry,asafoeti...  \n",
              "...                    ...                                                ...  \n",
              "6033            [American]     [flour,brownsugar,bakingpowder,milk,eggs,oats]  \n",
              "6034            [American]        [chicken,lime,cumin,salsa,cheese,tortillas]  \n",
              "6035            [American]          [onion,garlic,mushrooms,broth,milk,flour]  \n",
              "6036            [American]  [ramennoodles,cabbage,carrot,eggs,soysauce,ses...  \n",
              "6037            [American]      [whitecakemix,strawberries,sugar,butter,eggs]  \n",
              "\n",
              "[6038 rows x 4 columns]>"
            ]
          },
          "metadata": {},
          "execution_count": 90
        }
      ]
    },
    {
      "cell_type": "markdown",
      "source": [
        "joining Cuisine and Cleaned-Ingredients  as tags"
      ],
      "metadata": {
        "id": "Ovl4ltSX4ILF"
      }
    },
    {
      "cell_type": "code",
      "source": [
        "df['keywords'] = df['Cleaned-Ingredients'] + df['Cuisine']"
      ],
      "metadata": {
        "colab": {
          "base_uri": "https://localhost:8080/"
        },
        "id": "CVXO3NUa4Ntr",
        "outputId": "0aabb002-cab6-43fe-de05-de8b5692bde8"
      },
      "execution_count": null,
      "outputs": [
        {
          "output_type": "stream",
          "name": "stderr",
          "text": [
            "<ipython-input-91-5f9d7f0041d0>:1: SettingWithCopyWarning: \n",
            "A value is trying to be set on a copy of a slice from a DataFrame.\n",
            "Try using .loc[row_indexer,col_indexer] = value instead\n",
            "\n",
            "See the caveats in the documentation: https://pandas.pydata.org/pandas-docs/stable/user_guide/indexing.html#returning-a-view-versus-a-copy\n",
            "  df['keywords'] = df['Cleaned-Ingredients'] + df['Cuisine']\n"
          ]
        }
      ]
    },
    {
      "cell_type": "code",
      "source": [
        "df.head()"
      ],
      "metadata": {
        "colab": {
          "base_uri": "https://localhost:8080/",
          "height": 258
        },
        "id": "g0tjc1z06ROZ",
        "outputId": "356bb59b-1d2d-4169-bc97-a45b67992945"
      },
      "execution_count": null,
      "outputs": [
        {
          "output_type": "execute_result",
          "data": {
            "text/plain": [
              "   FoodID                               TranslatedRecipeName  \\\n",
              "0     100                               Masala Karela Recipe   \n",
              "1     101                         Spicy Tomato Rice (Recipe)   \n",
              "2     102  Ragi Semiya Upma Recipe - Ragi Millet Vermicel...   \n",
              "3     103  Gongura Chicken Curry Recipe - Andhra Style Go...   \n",
              "4     104  Andhra Style Alam Pachadi Recipe - Adrak Chutn...   \n",
              "\n",
              "                Cuisine                                Cleaned-Ingredients  \\\n",
              "0              [Indian]  [salt,amchurdrymangopowder,karelabittergourdpa...   \n",
              "1  [SouthIndianRecipes]  [tomato,salt,chickpealentils,greenchilli,rice,...   \n",
              "2  [SouthIndianRecipes]  [salt,ricevermicellinoodlesthin,asafoetidahing...   \n",
              "3              [Andhra]  [tomato,salt,ginger,sorrelleavesgongura,fennel...   \n",
              "4              [Andhra]  [tomato,salt,ginger,redchillies,curry,asafoeti...   \n",
              "\n",
              "                                            keywords  \n",
              "0  [salt,amchurdrymangopowder,karelabittergourdpa...  \n",
              "1  [tomato,salt,chickpealentils,greenchilli,rice,...  \n",
              "2  [salt,ricevermicellinoodlesthin,asafoetidahing...  \n",
              "3  [tomato,salt,ginger,sorrelleavesgongura,fennel...  \n",
              "4  [tomato,salt,ginger,redchillies,curry,asafoeti...  "
            ],
            "text/html": [
              "\n",
              "  <div id=\"df-b245cce5-103e-4942-b6c9-cddf4b16888e\" class=\"colab-df-container\">\n",
              "    <div>\n",
              "<style scoped>\n",
              "    .dataframe tbody tr th:only-of-type {\n",
              "        vertical-align: middle;\n",
              "    }\n",
              "\n",
              "    .dataframe tbody tr th {\n",
              "        vertical-align: top;\n",
              "    }\n",
              "\n",
              "    .dataframe thead th {\n",
              "        text-align: right;\n",
              "    }\n",
              "</style>\n",
              "<table border=\"1\" class=\"dataframe\">\n",
              "  <thead>\n",
              "    <tr style=\"text-align: right;\">\n",
              "      <th></th>\n",
              "      <th>FoodID</th>\n",
              "      <th>TranslatedRecipeName</th>\n",
              "      <th>Cuisine</th>\n",
              "      <th>Cleaned-Ingredients</th>\n",
              "      <th>keywords</th>\n",
              "    </tr>\n",
              "  </thead>\n",
              "  <tbody>\n",
              "    <tr>\n",
              "      <th>0</th>\n",
              "      <td>100</td>\n",
              "      <td>Masala Karela Recipe</td>\n",
              "      <td>[Indian]</td>\n",
              "      <td>[salt,amchurdrymangopowder,karelabittergourdpa...</td>\n",
              "      <td>[salt,amchurdrymangopowder,karelabittergourdpa...</td>\n",
              "    </tr>\n",
              "    <tr>\n",
              "      <th>1</th>\n",
              "      <td>101</td>\n",
              "      <td>Spicy Tomato Rice (Recipe)</td>\n",
              "      <td>[SouthIndianRecipes]</td>\n",
              "      <td>[tomato,salt,chickpealentils,greenchilli,rice,...</td>\n",
              "      <td>[tomato,salt,chickpealentils,greenchilli,rice,...</td>\n",
              "    </tr>\n",
              "    <tr>\n",
              "      <th>2</th>\n",
              "      <td>102</td>\n",
              "      <td>Ragi Semiya Upma Recipe - Ragi Millet Vermicel...</td>\n",
              "      <td>[SouthIndianRecipes]</td>\n",
              "      <td>[salt,ricevermicellinoodlesthin,asafoetidahing...</td>\n",
              "      <td>[salt,ricevermicellinoodlesthin,asafoetidahing...</td>\n",
              "    </tr>\n",
              "    <tr>\n",
              "      <th>3</th>\n",
              "      <td>103</td>\n",
              "      <td>Gongura Chicken Curry Recipe - Andhra Style Go...</td>\n",
              "      <td>[Andhra]</td>\n",
              "      <td>[tomato,salt,ginger,sorrelleavesgongura,fennel...</td>\n",
              "      <td>[tomato,salt,ginger,sorrelleavesgongura,fennel...</td>\n",
              "    </tr>\n",
              "    <tr>\n",
              "      <th>4</th>\n",
              "      <td>104</td>\n",
              "      <td>Andhra Style Alam Pachadi Recipe - Adrak Chutn...</td>\n",
              "      <td>[Andhra]</td>\n",
              "      <td>[tomato,salt,ginger,redchillies,curry,asafoeti...</td>\n",
              "      <td>[tomato,salt,ginger,redchillies,curry,asafoeti...</td>\n",
              "    </tr>\n",
              "  </tbody>\n",
              "</table>\n",
              "</div>\n",
              "    <div class=\"colab-df-buttons\">\n",
              "\n",
              "  <div class=\"colab-df-container\">\n",
              "    <button class=\"colab-df-convert\" onclick=\"convertToInteractive('df-b245cce5-103e-4942-b6c9-cddf4b16888e')\"\n",
              "            title=\"Convert this dataframe to an interactive table.\"\n",
              "            style=\"display:none;\">\n",
              "\n",
              "  <svg xmlns=\"http://www.w3.org/2000/svg\" height=\"24px\" viewBox=\"0 -960 960 960\">\n",
              "    <path d=\"M120-120v-720h720v720H120Zm60-500h600v-160H180v160Zm220 220h160v-160H400v160Zm0 220h160v-160H400v160ZM180-400h160v-160H180v160Zm440 0h160v-160H620v160ZM180-180h160v-160H180v160Zm440 0h160v-160H620v160Z\"/>\n",
              "  </svg>\n",
              "    </button>\n",
              "\n",
              "  <style>\n",
              "    .colab-df-container {\n",
              "      display:flex;\n",
              "      gap: 12px;\n",
              "    }\n",
              "\n",
              "    .colab-df-convert {\n",
              "      background-color: #E8F0FE;\n",
              "      border: none;\n",
              "      border-radius: 50%;\n",
              "      cursor: pointer;\n",
              "      display: none;\n",
              "      fill: #1967D2;\n",
              "      height: 32px;\n",
              "      padding: 0 0 0 0;\n",
              "      width: 32px;\n",
              "    }\n",
              "\n",
              "    .colab-df-convert:hover {\n",
              "      background-color: #E2EBFA;\n",
              "      box-shadow: 0px 1px 2px rgba(60, 64, 67, 0.3), 0px 1px 3px 1px rgba(60, 64, 67, 0.15);\n",
              "      fill: #174EA6;\n",
              "    }\n",
              "\n",
              "    .colab-df-buttons div {\n",
              "      margin-bottom: 4px;\n",
              "    }\n",
              "\n",
              "    [theme=dark] .colab-df-convert {\n",
              "      background-color: #3B4455;\n",
              "      fill: #D2E3FC;\n",
              "    }\n",
              "\n",
              "    [theme=dark] .colab-df-convert:hover {\n",
              "      background-color: #434B5C;\n",
              "      box-shadow: 0px 1px 3px 1px rgba(0, 0, 0, 0.15);\n",
              "      filter: drop-shadow(0px 1px 2px rgba(0, 0, 0, 0.3));\n",
              "      fill: #FFFFFF;\n",
              "    }\n",
              "  </style>\n",
              "\n",
              "    <script>\n",
              "      const buttonEl =\n",
              "        document.querySelector('#df-b245cce5-103e-4942-b6c9-cddf4b16888e button.colab-df-convert');\n",
              "      buttonEl.style.display =\n",
              "        google.colab.kernel.accessAllowed ? 'block' : 'none';\n",
              "\n",
              "      async function convertToInteractive(key) {\n",
              "        const element = document.querySelector('#df-b245cce5-103e-4942-b6c9-cddf4b16888e');\n",
              "        const dataTable =\n",
              "          await google.colab.kernel.invokeFunction('convertToInteractive',\n",
              "                                                    [key], {});\n",
              "        if (!dataTable) return;\n",
              "\n",
              "        const docLinkHtml = 'Like what you see? Visit the ' +\n",
              "          '<a target=\"_blank\" href=https://colab.research.google.com/notebooks/data_table.ipynb>data table notebook</a>'\n",
              "          + ' to learn more about interactive tables.';\n",
              "        element.innerHTML = '';\n",
              "        dataTable['output_type'] = 'display_data';\n",
              "        await google.colab.output.renderOutput(dataTable, element);\n",
              "        const docLink = document.createElement('div');\n",
              "        docLink.innerHTML = docLinkHtml;\n",
              "        element.appendChild(docLink);\n",
              "      }\n",
              "    </script>\n",
              "  </div>\n",
              "\n",
              "\n",
              "<div id=\"df-0d1f751f-3243-4ada-89fd-e049a42be9d4\">\n",
              "  <button class=\"colab-df-quickchart\" onclick=\"quickchart('df-0d1f751f-3243-4ada-89fd-e049a42be9d4')\"\n",
              "            title=\"Suggest charts\"\n",
              "            style=\"display:none;\">\n",
              "\n",
              "<svg xmlns=\"http://www.w3.org/2000/svg\" height=\"24px\"viewBox=\"0 0 24 24\"\n",
              "     width=\"24px\">\n",
              "    <g>\n",
              "        <path d=\"M19 3H5c-1.1 0-2 .9-2 2v14c0 1.1.9 2 2 2h14c1.1 0 2-.9 2-2V5c0-1.1-.9-2-2-2zM9 17H7v-7h2v7zm4 0h-2V7h2v10zm4 0h-2v-4h2v4z\"/>\n",
              "    </g>\n",
              "</svg>\n",
              "  </button>\n",
              "\n",
              "<style>\n",
              "  .colab-df-quickchart {\n",
              "      --bg-color: #E8F0FE;\n",
              "      --fill-color: #1967D2;\n",
              "      --hover-bg-color: #E2EBFA;\n",
              "      --hover-fill-color: #174EA6;\n",
              "      --disabled-fill-color: #AAA;\n",
              "      --disabled-bg-color: #DDD;\n",
              "  }\n",
              "\n",
              "  [theme=dark] .colab-df-quickchart {\n",
              "      --bg-color: #3B4455;\n",
              "      --fill-color: #D2E3FC;\n",
              "      --hover-bg-color: #434B5C;\n",
              "      --hover-fill-color: #FFFFFF;\n",
              "      --disabled-bg-color: #3B4455;\n",
              "      --disabled-fill-color: #666;\n",
              "  }\n",
              "\n",
              "  .colab-df-quickchart {\n",
              "    background-color: var(--bg-color);\n",
              "    border: none;\n",
              "    border-radius: 50%;\n",
              "    cursor: pointer;\n",
              "    display: none;\n",
              "    fill: var(--fill-color);\n",
              "    height: 32px;\n",
              "    padding: 0;\n",
              "    width: 32px;\n",
              "  }\n",
              "\n",
              "  .colab-df-quickchart:hover {\n",
              "    background-color: var(--hover-bg-color);\n",
              "    box-shadow: 0 1px 2px rgba(60, 64, 67, 0.3), 0 1px 3px 1px rgba(60, 64, 67, 0.15);\n",
              "    fill: var(--button-hover-fill-color);\n",
              "  }\n",
              "\n",
              "  .colab-df-quickchart-complete:disabled,\n",
              "  .colab-df-quickchart-complete:disabled:hover {\n",
              "    background-color: var(--disabled-bg-color);\n",
              "    fill: var(--disabled-fill-color);\n",
              "    box-shadow: none;\n",
              "  }\n",
              "\n",
              "  .colab-df-spinner {\n",
              "    border: 2px solid var(--fill-color);\n",
              "    border-color: transparent;\n",
              "    border-bottom-color: var(--fill-color);\n",
              "    animation:\n",
              "      spin 1s steps(1) infinite;\n",
              "  }\n",
              "\n",
              "  @keyframes spin {\n",
              "    0% {\n",
              "      border-color: transparent;\n",
              "      border-bottom-color: var(--fill-color);\n",
              "      border-left-color: var(--fill-color);\n",
              "    }\n",
              "    20% {\n",
              "      border-color: transparent;\n",
              "      border-left-color: var(--fill-color);\n",
              "      border-top-color: var(--fill-color);\n",
              "    }\n",
              "    30% {\n",
              "      border-color: transparent;\n",
              "      border-left-color: var(--fill-color);\n",
              "      border-top-color: var(--fill-color);\n",
              "      border-right-color: var(--fill-color);\n",
              "    }\n",
              "    40% {\n",
              "      border-color: transparent;\n",
              "      border-right-color: var(--fill-color);\n",
              "      border-top-color: var(--fill-color);\n",
              "    }\n",
              "    60% {\n",
              "      border-color: transparent;\n",
              "      border-right-color: var(--fill-color);\n",
              "    }\n",
              "    80% {\n",
              "      border-color: transparent;\n",
              "      border-right-color: var(--fill-color);\n",
              "      border-bottom-color: var(--fill-color);\n",
              "    }\n",
              "    90% {\n",
              "      border-color: transparent;\n",
              "      border-bottom-color: var(--fill-color);\n",
              "    }\n",
              "  }\n",
              "</style>\n",
              "\n",
              "  <script>\n",
              "    async function quickchart(key) {\n",
              "      const quickchartButtonEl =\n",
              "        document.querySelector('#' + key + ' button');\n",
              "      quickchartButtonEl.disabled = true;  // To prevent multiple clicks.\n",
              "      quickchartButtonEl.classList.add('colab-df-spinner');\n",
              "      try {\n",
              "        const charts = await google.colab.kernel.invokeFunction(\n",
              "            'suggestCharts', [key], {});\n",
              "      } catch (error) {\n",
              "        console.error('Error during call to suggestCharts:', error);\n",
              "      }\n",
              "      quickchartButtonEl.classList.remove('colab-df-spinner');\n",
              "      quickchartButtonEl.classList.add('colab-df-quickchart-complete');\n",
              "    }\n",
              "    (() => {\n",
              "      let quickchartButtonEl =\n",
              "        document.querySelector('#df-0d1f751f-3243-4ada-89fd-e049a42be9d4 button');\n",
              "      quickchartButtonEl.style.display =\n",
              "        google.colab.kernel.accessAllowed ? 'block' : 'none';\n",
              "    })();\n",
              "  </script>\n",
              "</div>\n",
              "\n",
              "    </div>\n",
              "  </div>\n"
            ]
          },
          "metadata": {},
          "execution_count": 92
        }
      ]
    },
    {
      "cell_type": "code",
      "source": [
        "df['keywords'][0]"
      ],
      "metadata": {
        "colab": {
          "base_uri": "https://localhost:8080/"
        },
        "id": "4aiizunh6Tty",
        "outputId": "2c286e99-7e5c-4deb-f707-49aab0eebd62"
      },
      "execution_count": null,
      "outputs": [
        {
          "output_type": "execute_result",
          "data": {
            "text/plain": [
              "['salt,amchurdrymangopowder,karelabittergourdpavakkai,redchillipowder,gramflourbesan,onion,cuminseedsjeera,corianderpowder,turmericpowder,sunfloweroil',\n",
              " 'Indian']"
            ]
          },
          "metadata": {},
          "execution_count": 93
        }
      ]
    },
    {
      "cell_type": "code",
      "source": [
        "data_frame = df[['FoodID',\t'TranslatedRecipeName', 'keywords']]"
      ],
      "metadata": {
        "id": "9-thEtvW6z4c"
      },
      "execution_count": null,
      "outputs": []
    },
    {
      "cell_type": "code",
      "source": [
        "data_frame.sample"
      ],
      "metadata": {
        "colab": {
          "base_uri": "https://localhost:8080/"
        },
        "id": "hekLWpRH7WXu",
        "outputId": "b1bb5ce1-e29d-4af0-b573-95695456a89a"
      },
      "execution_count": null,
      "outputs": [
        {
          "output_type": "execute_result",
          "data": {
            "text/plain": [
              "<bound method NDFrame.sample of       FoodID                               TranslatedRecipeName  \\\n",
              "0        100                               Masala Karela Recipe   \n",
              "1        101                         Spicy Tomato Rice (Recipe)   \n",
              "2        102  Ragi Semiya Upma Recipe - Ragi Millet Vermicel...   \n",
              "3        103  Gongura Chicken Curry Recipe - Andhra Style Go...   \n",
              "4        104  Andhra Style Alam Pachadi Recipe - Adrak Chutn...   \n",
              "...      ...                                                ...   \n",
              "6033      96                       Brown Sugar Oatmeal Pancakes   \n",
              "6034      97                                 Lime Chicken Tacos   \n",
              "6035      98                       Quick Cream of Mushroom Soup   \n",
              "6036      99                               Egg Roll Noodle Bowl   \n",
              "6037     100                      Mamaw Emily’s Strawberry Cake   \n",
              "\n",
              "                                               keywords  \n",
              "0     [salt,amchurdrymangopowder,karelabittergourdpa...  \n",
              "1     [tomato,salt,chickpealentils,greenchilli,rice,...  \n",
              "2     [salt,ricevermicellinoodlesthin,asafoetidahing...  \n",
              "3     [tomato,salt,ginger,sorrelleavesgongura,fennel...  \n",
              "4     [tomato,salt,ginger,redchillies,curry,asafoeti...  \n",
              "...                                                 ...  \n",
              "6033  [flour,brownsugar,bakingpowder,milk,eggs,oats,...  \n",
              "6034  [chicken,lime,cumin,salsa,cheese,tortillas, Am...  \n",
              "6035  [onion,garlic,mushrooms,broth,milk,flour, Amer...  \n",
              "6036  [ramennoodles,cabbage,carrot,eggs,soysauce,ses...  \n",
              "6037  [whitecakemix,strawberries,sugar,butter,eggs, ...  \n",
              "\n",
              "[6038 rows x 3 columns]>"
            ]
          },
          "metadata": {},
          "execution_count": 95
        }
      ]
    },
    {
      "cell_type": "code",
      "source": [
        "#list to string\n",
        "data_frame['keywords'] = data_frame['keywords'].apply(lambda x:\" \".join(x))"
      ],
      "metadata": {
        "colab": {
          "base_uri": "https://localhost:8080/"
        },
        "id": "Ebmc676P7ZqC",
        "outputId": "3888c4b0-4fdf-48e4-da9f-1843df612efc"
      },
      "execution_count": null,
      "outputs": [
        {
          "output_type": "stream",
          "name": "stderr",
          "text": [
            "<ipython-input-96-582947342d05>:2: SettingWithCopyWarning: \n",
            "A value is trying to be set on a copy of a slice from a DataFrame.\n",
            "Try using .loc[row_indexer,col_indexer] = value instead\n",
            "\n",
            "See the caveats in the documentation: https://pandas.pydata.org/pandas-docs/stable/user_guide/indexing.html#returning-a-view-versus-a-copy\n",
            "  data_frame['keywords'] = data_frame['keywords'].apply(lambda x:\" \".join(x))\n"
          ]
        }
      ]
    },
    {
      "cell_type": "code",
      "source": [
        "data_frame.sample"
      ],
      "metadata": {
        "colab": {
          "base_uri": "https://localhost:8080/"
        },
        "id": "rjrs0FbG9cw-",
        "outputId": "7af454a5-d214-457a-e4dd-3ad09323000e"
      },
      "execution_count": null,
      "outputs": [
        {
          "output_type": "execute_result",
          "data": {
            "text/plain": [
              "<bound method NDFrame.sample of       FoodID                               TranslatedRecipeName  \\\n",
              "0        100                               Masala Karela Recipe   \n",
              "1        101                         Spicy Tomato Rice (Recipe)   \n",
              "2        102  Ragi Semiya Upma Recipe - Ragi Millet Vermicel...   \n",
              "3        103  Gongura Chicken Curry Recipe - Andhra Style Go...   \n",
              "4        104  Andhra Style Alam Pachadi Recipe - Adrak Chutn...   \n",
              "...      ...                                                ...   \n",
              "6033      96                       Brown Sugar Oatmeal Pancakes   \n",
              "6034      97                                 Lime Chicken Tacos   \n",
              "6035      98                       Quick Cream of Mushroom Soup   \n",
              "6036      99                               Egg Roll Noodle Bowl   \n",
              "6037     100                      Mamaw Emily’s Strawberry Cake   \n",
              "\n",
              "                                               keywords  \n",
              "0     salt,amchurdrymangopowder,karelabittergourdpav...  \n",
              "1     tomato,salt,chickpealentils,greenchilli,rice,m...  \n",
              "2     salt,ricevermicellinoodlesthin,asafoetidahing,...  \n",
              "3     tomato,salt,ginger,sorrelleavesgongura,fennels...  \n",
              "4     tomato,salt,ginger,redchillies,curry,asafoetid...  \n",
              "...                                                 ...  \n",
              "6033  flour,brownsugar,bakingpowder,milk,eggs,oats A...  \n",
              "6034  chicken,lime,cumin,salsa,cheese,tortillas Amer...  \n",
              "6035   onion,garlic,mushrooms,broth,milk,flour American  \n",
              "6036  ramennoodles,cabbage,carrot,eggs,soysauce,sesa...  \n",
              "6037  whitecakemix,strawberries,sugar,butter,eggs Am...  \n",
              "\n",
              "[6038 rows x 3 columns]>"
            ]
          },
          "metadata": {},
          "execution_count": 97
        }
      ]
    },
    {
      "cell_type": "code",
      "source": [
        "\n",
        "data_frame['keywords'] = data_frame['keywords'].apply(lambda x: x.replace(',', ' '))"
      ],
      "metadata": {
        "colab": {
          "base_uri": "https://localhost:8080/"
        },
        "id": "xsOYN5i68cdr",
        "outputId": "a86f3e14-d81d-4195-8825-82b655c6a7b7"
      },
      "execution_count": null,
      "outputs": [
        {
          "output_type": "stream",
          "name": "stderr",
          "text": [
            "<ipython-input-98-dcf7ceeea9aa>:1: SettingWithCopyWarning: \n",
            "A value is trying to be set on a copy of a slice from a DataFrame.\n",
            "Try using .loc[row_indexer,col_indexer] = value instead\n",
            "\n",
            "See the caveats in the documentation: https://pandas.pydata.org/pandas-docs/stable/user_guide/indexing.html#returning-a-view-versus-a-copy\n",
            "  data_frame['keywords'] = data_frame['keywords'].apply(lambda x: x.replace(',', ' '))\n"
          ]
        }
      ]
    },
    {
      "cell_type": "code",
      "source": [
        "data_frame.sample"
      ],
      "metadata": {
        "colab": {
          "base_uri": "https://localhost:8080/"
        },
        "id": "cdIAuH2G9r-j",
        "outputId": "95a2931f-0cb3-41ba-e029-35fbd46fdecc"
      },
      "execution_count": null,
      "outputs": [
        {
          "output_type": "execute_result",
          "data": {
            "text/plain": [
              "<bound method NDFrame.sample of       FoodID                               TranslatedRecipeName  \\\n",
              "0        100                               Masala Karela Recipe   \n",
              "1        101                         Spicy Tomato Rice (Recipe)   \n",
              "2        102  Ragi Semiya Upma Recipe - Ragi Millet Vermicel...   \n",
              "3        103  Gongura Chicken Curry Recipe - Andhra Style Go...   \n",
              "4        104  Andhra Style Alam Pachadi Recipe - Adrak Chutn...   \n",
              "...      ...                                                ...   \n",
              "6033      96                       Brown Sugar Oatmeal Pancakes   \n",
              "6034      97                                 Lime Chicken Tacos   \n",
              "6035      98                       Quick Cream of Mushroom Soup   \n",
              "6036      99                               Egg Roll Noodle Bowl   \n",
              "6037     100                      Mamaw Emily’s Strawberry Cake   \n",
              "\n",
              "                                               keywords  \n",
              "0     salt amchurdrymangopowder karelabittergourdpav...  \n",
              "1     tomato salt chickpealentils greenchilli rice m...  \n",
              "2     salt ricevermicellinoodlesthin asafoetidahing ...  \n",
              "3     tomato salt ginger sorrelleavesgongura fennels...  \n",
              "4     tomato salt ginger redchillies curry asafoetid...  \n",
              "...                                                 ...  \n",
              "6033  flour brownsugar bakingpowder milk eggs oats A...  \n",
              "6034  chicken lime cumin salsa cheese tortillas Amer...  \n",
              "6035   onion garlic mushrooms broth milk flour American  \n",
              "6036  ramennoodles cabbage carrot eggs soysauce sesa...  \n",
              "6037  whitecakemix strawberries sugar butter eggs Am...  \n",
              "\n",
              "[6038 rows x 3 columns]>"
            ]
          },
          "metadata": {},
          "execution_count": 99
        }
      ]
    },
    {
      "cell_type": "code",
      "source": [
        "#vectorization\n",
        "from sklearn.feature_extraction.text import CountVectorizer\n",
        "cv = CountVectorizer (max_features = 5200, stop_words = 'english')\n"
      ],
      "metadata": {
        "id": "FryMGOJT93Pt"
      },
      "execution_count": null,
      "outputs": []
    },
    {
      "cell_type": "code",
      "source": [
        "vectorized = cv.fit_transform(data_frame['keywords']).toarray()"
      ],
      "metadata": {
        "id": "7-Y23hC4SLu1"
      },
      "execution_count": null,
      "outputs": []
    },
    {
      "cell_type": "code",
      "source": [
        "vectorized\n"
      ],
      "metadata": {
        "colab": {
          "base_uri": "https://localhost:8080/"
        },
        "id": "rPqiTEgqTeor",
        "outputId": "0cbeecff-9f91-44c0-e2aa-b7013cc3e1a5"
      },
      "execution_count": null,
      "outputs": [
        {
          "output_type": "execute_result",
          "data": {
            "text/plain": [
              "array([[0, 0, 0, ..., 0, 0, 0],\n",
              "       [0, 0, 0, ..., 0, 0, 0],\n",
              "       [0, 0, 0, ..., 0, 0, 0],\n",
              "       ...,\n",
              "       [0, 0, 0, ..., 0, 0, 0],\n",
              "       [0, 0, 0, ..., 0, 0, 0],\n",
              "       [0, 0, 0, ..., 0, 0, 0]])"
            ]
          },
          "metadata": {},
          "execution_count": 102
        }
      ]
    },
    {
      "cell_type": "code",
      "source": [
        "ingredients = cv.get_feature_names_out()"
      ],
      "metadata": {
        "id": "_991QoESUkig"
      },
      "execution_count": null,
      "outputs": []
    },
    {
      "cell_type": "code",
      "source": [
        "len(ingredients)"
      ],
      "metadata": {
        "id": "JiwIHjdDVjc7",
        "colab": {
          "base_uri": "https://localhost:8080/"
        },
        "outputId": "ec02a23d-0f92-401e-a0bd-74393b913f7f"
      },
      "execution_count": null,
      "outputs": [
        {
          "output_type": "execute_result",
          "data": {
            "text/plain": [
              "5200"
            ]
          },
          "metadata": {},
          "execution_count": 104
        }
      ]
    },
    {
      "cell_type": "code",
      "source": [
        "#stemming\n",
        "from nltk.stem.porter import PorterStemmer\n",
        "ps = PorterStemmer()"
      ],
      "metadata": {
        "id": "5KO7sjyA8LJF"
      },
      "execution_count": null,
      "outputs": []
    },
    {
      "cell_type": "code",
      "source": [
        "ps.stem('amchurdrymangopowder')"
      ],
      "metadata": {
        "colab": {
          "base_uri": "https://localhost:8080/",
          "height": 35
        },
        "id": "YXMl5ALm9PrB",
        "outputId": "6a358f51-3fe2-4148-cb50-a2de5603cf68"
      },
      "execution_count": null,
      "outputs": [
        {
          "output_type": "execute_result",
          "data": {
            "text/plain": [
              "'amchurdrymangopowd'"
            ],
            "application/vnd.google.colaboratory.intrinsic+json": {
              "type": "string"
            }
          },
          "metadata": {},
          "execution_count": 106
        }
      ]
    },
    {
      "cell_type": "code",
      "source": [
        "ps.stem('mushrooms')"
      ],
      "metadata": {
        "colab": {
          "base_uri": "https://localhost:8080/",
          "height": 35
        },
        "id": "gWHMOd8Z9gY5",
        "outputId": "5fb031dc-d000-4d34-ae59-ca76bd631759"
      },
      "execution_count": null,
      "outputs": [
        {
          "output_type": "execute_result",
          "data": {
            "text/plain": [
              "'mushroom'"
            ],
            "application/vnd.google.colaboratory.intrinsic+json": {
              "type": "string"
            }
          },
          "metadata": {},
          "execution_count": 107
        }
      ]
    },
    {
      "cell_type": "code",
      "source": [
        "def stem(text):\n",
        "  y = []\n",
        "  for i in text.split():\n",
        "    y.append(ps.stem(i))\n",
        "  return \" \".join(y)"
      ],
      "metadata": {
        "id": "NL_PuU8_8-82"
      },
      "execution_count": null,
      "outputs": []
    },
    {
      "cell_type": "code",
      "source": [
        "print(stem('flour brownsugar bakingpowder milk eggs oats'))"
      ],
      "metadata": {
        "colab": {
          "base_uri": "https://localhost:8080/"
        },
        "id": "W-X4aruB9q0H",
        "outputId": "9b02479e-9c1b-462d-fb75-c2209bbed75a"
      },
      "execution_count": null,
      "outputs": [
        {
          "output_type": "stream",
          "name": "stdout",
          "text": [
            "flour brownsugar bakingpowd milk egg oat\n"
          ]
        }
      ]
    },
    {
      "cell_type": "code",
      "source": [
        "data_frame['keywords'] = data_frame['keywords'].apply(stem)"
      ],
      "metadata": {
        "colab": {
          "base_uri": "https://localhost:8080/"
        },
        "id": "IXHBWhIv-NF-",
        "outputId": "07045e51-4267-4456-d96d-d30dafc32873"
      },
      "execution_count": null,
      "outputs": [
        {
          "output_type": "stream",
          "name": "stderr",
          "text": [
            "<ipython-input-110-a5663f1c131a>:1: SettingWithCopyWarning: \n",
            "A value is trying to be set on a copy of a slice from a DataFrame.\n",
            "Try using .loc[row_indexer,col_indexer] = value instead\n",
            "\n",
            "See the caveats in the documentation: https://pandas.pydata.org/pandas-docs/stable/user_guide/indexing.html#returning-a-view-versus-a-copy\n",
            "  data_frame['keywords'] = data_frame['keywords'].apply(stem)\n"
          ]
        }
      ]
    },
    {
      "cell_type": "code",
      "source": [
        "data_frame.sample"
      ],
      "metadata": {
        "colab": {
          "base_uri": "https://localhost:8080/"
        },
        "id": "P8xEwAMI-xxh",
        "outputId": "4898cda6-05bc-4cb5-9868-f7db7d72357f"
      },
      "execution_count": null,
      "outputs": [
        {
          "output_type": "execute_result",
          "data": {
            "text/plain": [
              "<bound method NDFrame.sample of       FoodID                               TranslatedRecipeName  \\\n",
              "0        100                               Masala Karela Recipe   \n",
              "1        101                         Spicy Tomato Rice (Recipe)   \n",
              "2        102  Ragi Semiya Upma Recipe - Ragi Millet Vermicel...   \n",
              "3        103  Gongura Chicken Curry Recipe - Andhra Style Go...   \n",
              "4        104  Andhra Style Alam Pachadi Recipe - Adrak Chutn...   \n",
              "...      ...                                                ...   \n",
              "6033      96                       Brown Sugar Oatmeal Pancakes   \n",
              "6034      97                                 Lime Chicken Tacos   \n",
              "6035      98                       Quick Cream of Mushroom Soup   \n",
              "6036      99                               Egg Roll Noodle Bowl   \n",
              "6037     100                      Mamaw Emily’s Strawberry Cake   \n",
              "\n",
              "                                               keywords  \n",
              "0     salt amchurdrymangopowd karelabittergourdpavak...  \n",
              "1     tomato salt chickpealentil greenchilli rice mu...  \n",
              "2     salt ricevermicellinoodlesthin asafoetidah mus...  \n",
              "3     tomato salt ginger sorrelleavesgongura fennels...  \n",
              "4     tomato salt ginger redchilli curri asafoetida ...  \n",
              "...                                                 ...  \n",
              "6033  flour brownsugar bakingpowd milk egg oat american  \n",
              "6034   chicken lime cumin salsa chees tortilla american  \n",
              "6035    onion garlic mushroom broth milk flour american  \n",
              "6036  ramennoodl cabbag carrot egg soysauc sesameoil...  \n",
              "6037  whitecakemix strawberri sugar butter egg american  \n",
              "\n",
              "[6038 rows x 3 columns]>"
            ]
          },
          "metadata": {},
          "execution_count": 111
        }
      ]
    },
    {
      "cell_type": "code",
      "source": [
        "#re-vectorization\n",
        "from sklearn.feature_extraction.text import CountVectorizer\n",
        "cv = CountVectorizer (max_features = 5200, stop_words = 'english')\n",
        "vectorized = cv.fit_transform(data_frame['keywords']).toarray()\n",
        "vectorized"
      ],
      "metadata": {
        "colab": {
          "base_uri": "https://localhost:8080/"
        },
        "id": "PLlY6eE4--GW",
        "outputId": "127d7d4c-c00f-4ba7-fd77-110e5484868d"
      },
      "execution_count": null,
      "outputs": [
        {
          "output_type": "execute_result",
          "data": {
            "text/plain": [
              "array([[0, 0, 0, ..., 0, 0, 0],\n",
              "       [0, 0, 0, ..., 0, 0, 0],\n",
              "       [0, 0, 0, ..., 0, 0, 0],\n",
              "       ...,\n",
              "       [0, 0, 0, ..., 0, 0, 0],\n",
              "       [0, 0, 0, ..., 0, 0, 0],\n",
              "       [0, 0, 0, ..., 0, 0, 0]])"
            ]
          },
          "metadata": {},
          "execution_count": 112
        }
      ]
    },
    {
      "cell_type": "code",
      "source": [
        "len(cv.get_feature_names_out())"
      ],
      "metadata": {
        "colab": {
          "base_uri": "https://localhost:8080/"
        },
        "id": "k-iqP6Ns_kYM",
        "outputId": "07c87ff2-44b7-4e90-e18a-03b3fd51be7d"
      },
      "execution_count": null,
      "outputs": [
        {
          "output_type": "execute_result",
          "data": {
            "text/plain": [
              "5114"
            ]
          },
          "metadata": {},
          "execution_count": 113
        }
      ]
    },
    {
      "cell_type": "code",
      "source": [
        "#using cosine similarity from sklearn\n",
        "from sklearn.metrics.pairwise import cosine_similarity"
      ],
      "metadata": {
        "id": "E3RqmToa_vTu"
      },
      "execution_count": null,
      "outputs": []
    },
    {
      "cell_type": "code",
      "source": [
        "similarity = cosine_similarity(vectorized)\n"
      ],
      "metadata": {
        "id": "BBUF5l1oBXfC"
      },
      "execution_count": null,
      "outputs": []
    },
    {
      "cell_type": "code",
      "source": [
        "similarity"
      ],
      "metadata": {
        "colab": {
          "base_uri": "https://localhost:8080/"
        },
        "id": "Z_zblnKiBkQ4",
        "outputId": "003986a1-cea2-4543-a260-e936c5c7c048"
      },
      "execution_count": null,
      "outputs": [
        {
          "output_type": "execute_result",
          "data": {
            "text/plain": [
              "array([[1.        , 0.0836242 , 0.1672484 , ..., 0.11396058, 0.        ,\n",
              "        0.        ],\n",
              "       [0.0836242 , 1.        , 0.23076923, ..., 0.        , 0.        ,\n",
              "        0.        ],\n",
              "       [0.1672484 , 0.23076923, 1.        , ..., 0.10482848, 0.10482848,\n",
              "        0.        ],\n",
              "       ...,\n",
              "       [0.11396058, 0.        , 0.10482848, ..., 1.        , 0.14285714,\n",
              "        0.15430335],\n",
              "       [0.        , 0.        , 0.10482848, ..., 0.14285714, 1.        ,\n",
              "        0.3086067 ],\n",
              "       [0.        , 0.        , 0.        , ..., 0.15430335, 0.3086067 ,\n",
              "        1.        ]])"
            ]
          },
          "metadata": {},
          "execution_count": 116
        }
      ]
    },
    {
      "cell_type": "code",
      "source": [],
      "metadata": {
        "id": "9JpLYOznB7Or"
      },
      "execution_count": null,
      "outputs": []
    },
    {
      "cell_type": "code",
      "source": [
        "def preprocess_keywords(keyword_string):\n",
        "    return keyword_string.split()\n",
        "data_frame['preprocessed_keywords'] = data_frame['keywords'].apply(preprocess_keywords)"
      ],
      "metadata": {
        "colab": {
          "base_uri": "https://localhost:8080/"
        },
        "id": "ucQL93BqKuc9",
        "outputId": "a1e701a9-ecb7-4f12-adcd-b58c23fe2b0f"
      },
      "execution_count": null,
      "outputs": [
        {
          "output_type": "stream",
          "name": "stderr",
          "text": [
            "<ipython-input-117-409ac0d4ac8d>:3: SettingWithCopyWarning: \n",
            "A value is trying to be set on a copy of a slice from a DataFrame.\n",
            "Try using .loc[row_indexer,col_indexer] = value instead\n",
            "\n",
            "See the caveats in the documentation: https://pandas.pydata.org/pandas-docs/stable/user_guide/indexing.html#returning-a-view-versus-a-copy\n",
            "  data_frame['preprocessed_keywords'] = data_frame['keywords'].apply(preprocess_keywords)\n"
          ]
        }
      ]
    },
    {
      "cell_type": "code",
      "source": [
        "data_frame.sample"
      ],
      "metadata": {
        "colab": {
          "base_uri": "https://localhost:8080/"
        },
        "id": "OIf0_d6mPqYa",
        "outputId": "9d7da8fe-50c0-4d30-e7cd-afc15fa58e76"
      },
      "execution_count": null,
      "outputs": [
        {
          "output_type": "execute_result",
          "data": {
            "text/plain": [
              "<bound method NDFrame.sample of       FoodID                               TranslatedRecipeName  \\\n",
              "0        100                               Masala Karela Recipe   \n",
              "1        101                         Spicy Tomato Rice (Recipe)   \n",
              "2        102  Ragi Semiya Upma Recipe - Ragi Millet Vermicel...   \n",
              "3        103  Gongura Chicken Curry Recipe - Andhra Style Go...   \n",
              "4        104  Andhra Style Alam Pachadi Recipe - Adrak Chutn...   \n",
              "...      ...                                                ...   \n",
              "6033      96                       Brown Sugar Oatmeal Pancakes   \n",
              "6034      97                                 Lime Chicken Tacos   \n",
              "6035      98                       Quick Cream of Mushroom Soup   \n",
              "6036      99                               Egg Roll Noodle Bowl   \n",
              "6037     100                      Mamaw Emily’s Strawberry Cake   \n",
              "\n",
              "                                               keywords  \\\n",
              "0     salt amchurdrymangopowd karelabittergourdpavak...   \n",
              "1     tomato salt chickpealentil greenchilli rice mu...   \n",
              "2     salt ricevermicellinoodlesthin asafoetidah mus...   \n",
              "3     tomato salt ginger sorrelleavesgongura fennels...   \n",
              "4     tomato salt ginger redchilli curri asafoetida ...   \n",
              "...                                                 ...   \n",
              "6033  flour brownsugar bakingpowd milk egg oat american   \n",
              "6034   chicken lime cumin salsa chees tortilla american   \n",
              "6035    onion garlic mushroom broth milk flour american   \n",
              "6036  ramennoodl cabbag carrot egg soysauc sesameoil...   \n",
              "6037  whitecakemix strawberri sugar butter egg american   \n",
              "\n",
              "                                  preprocessed_keywords  \n",
              "0     [salt, amchurdrymangopowd, karelabittergourdpa...  \n",
              "1     [tomato, salt, chickpealentil, greenchilli, ri...  \n",
              "2     [salt, ricevermicellinoodlesthin, asafoetidah,...  \n",
              "3     [tomato, salt, ginger, sorrelleavesgongura, fe...  \n",
              "4     [tomato, salt, ginger, redchilli, curri, asafo...  \n",
              "...                                                 ...  \n",
              "6033  [flour, brownsugar, bakingpowd, milk, egg, oat...  \n",
              "6034  [chicken, lime, cumin, salsa, chees, tortilla,...  \n",
              "6035  [onion, garlic, mushroom, broth, milk, flour, ...  \n",
              "6036  [ramennoodl, cabbag, carrot, egg, soysauc, ses...  \n",
              "6037  [whitecakemix, strawberri, sugar, butter, egg,...  \n",
              "\n",
              "[6038 rows x 4 columns]>"
            ]
          },
          "metadata": {},
          "execution_count": 118
        }
      ]
    },
    {
      "cell_type": "code",
      "source": [
        "def cosineSimilarity(a, b):\n",
        "    dot_product = np.dot(a, b)\n",
        "    norm_a = np.linalg.norm(a)\n",
        "    norm_b = np.linalg.norm(b)\n",
        "\n",
        "    similarity = dot_product / (norm_a * norm_b)\n",
        "\n",
        "    return similarity"
      ],
      "metadata": {
        "id": "BoaAmpHLMneT"
      },
      "execution_count": null,
      "outputs": []
    },
    {
      "cell_type": "code",
      "source": [
        "\n",
        "# Implement a basic CountVectorizer-like functionality\n",
        "class SimpleCountVectorizer:\n",
        "    def __init__(self):\n",
        "        self.vocabulary_ = None\n",
        "\n",
        "    def fit_transform(self, corpus):\n",
        "        unique_tokens = set(token for doc in corpus for token in doc)\n",
        "        self.vocabulary_ = {token: i for i, token in enumerate(unique_tokens)}\n",
        "\n",
        "        matrix = np.zeros((len(corpus), len(unique_tokens)))\n",
        "\n",
        "        for i, doc in enumerate(corpus):\n",
        "            for token in doc:\n",
        "                matrix[i, self.vocabulary_[token]] += 1\n",
        "\n",
        "        return matrix\n"
      ],
      "metadata": {
        "id": "XsmW5Ed2OhNo"
      },
      "execution_count": null,
      "outputs": []
    },
    {
      "cell_type": "code",
      "source": [
        "vectorizer = SimpleCountVectorizer()\n",
        "keywords_matrix = vectorizer.fit_transform(data_frame['preprocessed_keywords'])\n",
        "keywords_matrix"
      ],
      "metadata": {
        "colab": {
          "base_uri": "https://localhost:8080/"
        },
        "id": "j5oXz0z0RJDD",
        "outputId": "e849f8b2-3c52-403d-8a80-84005e9182eb"
      },
      "execution_count": null,
      "outputs": [
        {
          "output_type": "execute_result",
          "data": {
            "text/plain": [
              "array([[0., 0., 0., ..., 0., 0., 0.],\n",
              "       [0., 0., 0., ..., 0., 0., 0.],\n",
              "       [0., 0., 0., ..., 0., 0., 0.],\n",
              "       ...,\n",
              "       [0., 0., 0., ..., 0., 0., 0.],\n",
              "       [0., 0., 0., ..., 0., 0., 0.],\n",
              "       [0., 0., 0., ..., 0., 0., 0.]])"
            ]
          },
          "metadata": {},
          "execution_count": 121
        }
      ]
    },
    {
      "cell_type": "code",
      "source": [
        "def cosine_similarity(vector_a, vector_b):\n",
        "    dot_product = np.dot(vector_a, vector_b)\n",
        "    norm_a = np.linalg.norm(vector_a)\n",
        "    norm_b = np.linalg.norm(vector_b)\n",
        "\n",
        "    similarity = dot_product / (norm_a * norm_b) if norm_a * norm_b != 0 else 0\n",
        "\n",
        "    return similarity"
      ],
      "metadata": {
        "id": "uVPysZNrRQ24"
      },
      "execution_count": null,
      "outputs": []
    },
    {
      "cell_type": "code",
      "source": [
        "num_recipes = len(data_frame)\n",
        "cosine_sim_matrix = np.zeros((num_recipes, num_recipes))\n",
        "for i in range(num_recipes):\n",
        "    for j in range(num_recipes):\n",
        "        cosine_sim_matrix[i, j] = cosine_similarity(keywords_matrix[i], keywords_matrix[j])\n",
        "\n"
      ],
      "metadata": {
        "id": "XbEMM3nQRXb_"
      },
      "execution_count": null,
      "outputs": []
    },
    {
      "cell_type": "code",
      "source": [
        "print(cosine_sim_matrix)"
      ],
      "metadata": {
        "colab": {
          "base_uri": "https://localhost:8080/"
        },
        "id": "gbksmbs_RdVA",
        "outputId": "d84d47bb-1ecd-42d3-8049-e90ea8dfd758"
      },
      "execution_count": null,
      "outputs": [
        {
          "output_type": "stream",
          "name": "stdout",
          "text": [
            "[[1.         0.0836242  0.1672484  ... 0.11396058 0.         0.        ]\n",
            " [0.0836242  1.         0.23076923 ... 0.         0.         0.        ]\n",
            " [0.1672484  0.23076923 1.         ... 0.10482848 0.10482848 0.        ]\n",
            " ...\n",
            " [0.11396058 0.         0.10482848 ... 1.         0.14285714 0.15430335]\n",
            " [0.         0.         0.10482848 ... 0.14285714 1.         0.3086067 ]\n",
            " [0.         0.         0.         ... 0.15430335 0.3086067  1.        ]]\n"
          ]
        }
      ]
    },
    {
      "cell_type": "code",
      "source": [
        "# took 3 GB memory and 7 min runtime"
      ],
      "metadata": {
        "id": "kiX_8bKbUK1R"
      },
      "execution_count": null,
      "outputs": []
    },
    {
      "cell_type": "code",
      "source": [
        "cosine_sim_matrix[1]"
      ],
      "metadata": {
        "colab": {
          "base_uri": "https://localhost:8080/"
        },
        "id": "EpKoyS10Scn1",
        "outputId": "ee17fdfe-0435-4aec-d44f-0e2966e4c3d7"
      },
      "execution_count": null,
      "outputs": [
        {
          "output_type": "execute_result",
          "data": {
            "text/plain": [
              "array([0.0836242 , 1.        , 0.23076923, ..., 0.        , 0.        ,\n",
              "       0.        ])"
            ]
          },
          "metadata": {},
          "execution_count": 128
        }
      ]
    },
    {
      "cell_type": "code",
      "source": [
        "data_frame"
      ],
      "metadata": {
        "colab": {
          "base_uri": "https://localhost:8080/",
          "height": 424
        },
        "id": "dVmQE7TnTATe",
        "outputId": "fbe52807-7d51-485e-d8c5-c538b9547781"
      },
      "execution_count": null,
      "outputs": [
        {
          "output_type": "execute_result",
          "data": {
            "text/plain": [
              "      FoodID                               TranslatedRecipeName  \\\n",
              "0        100                               Masala Karela Recipe   \n",
              "1        101                         Spicy Tomato Rice (Recipe)   \n",
              "2        102  Ragi Semiya Upma Recipe - Ragi Millet Vermicel...   \n",
              "3        103  Gongura Chicken Curry Recipe - Andhra Style Go...   \n",
              "4        104  Andhra Style Alam Pachadi Recipe - Adrak Chutn...   \n",
              "...      ...                                                ...   \n",
              "6033      96                       Brown Sugar Oatmeal Pancakes   \n",
              "6034      97                                 Lime Chicken Tacos   \n",
              "6035      98                       Quick Cream of Mushroom Soup   \n",
              "6036      99                               Egg Roll Noodle Bowl   \n",
              "6037     100                      Mamaw Emily’s Strawberry Cake   \n",
              "\n",
              "                                               keywords  \\\n",
              "0     salt amchurdrymangopowd karelabittergourdpavak...   \n",
              "1     tomato salt chickpealentil greenchilli rice mu...   \n",
              "2     salt ricevermicellinoodlesthin asafoetidah mus...   \n",
              "3     tomato salt ginger sorrelleavesgongura fennels...   \n",
              "4     tomato salt ginger redchilli curri asafoetida ...   \n",
              "...                                                 ...   \n",
              "6033  flour brownsugar bakingpowd milk egg oat american   \n",
              "6034   chicken lime cumin salsa chees tortilla american   \n",
              "6035    onion garlic mushroom broth milk flour american   \n",
              "6036  ramennoodl cabbag carrot egg soysauc sesameoil...   \n",
              "6037  whitecakemix strawberri sugar butter egg american   \n",
              "\n",
              "                                  preprocessed_keywords  \n",
              "0     [salt, amchurdrymangopowd, karelabittergourdpa...  \n",
              "1     [tomato, salt, chickpealentil, greenchilli, ri...  \n",
              "2     [salt, ricevermicellinoodlesthin, asafoetidah,...  \n",
              "3     [tomato, salt, ginger, sorrelleavesgongura, fe...  \n",
              "4     [tomato, salt, ginger, redchilli, curri, asafo...  \n",
              "...                                                 ...  \n",
              "6033  [flour, brownsugar, bakingpowd, milk, egg, oat...  \n",
              "6034  [chicken, lime, cumin, salsa, chees, tortilla,...  \n",
              "6035  [onion, garlic, mushroom, broth, milk, flour, ...  \n",
              "6036  [ramennoodl, cabbag, carrot, egg, soysauc, ses...  \n",
              "6037  [whitecakemix, strawberri, sugar, butter, egg,...  \n",
              "\n",
              "[6038 rows x 4 columns]"
            ],
            "text/html": [
              "\n",
              "  <div id=\"df-3b0fa0b3-ea7f-40fd-8b0b-f2372bc35bfe\" class=\"colab-df-container\">\n",
              "    <div>\n",
              "<style scoped>\n",
              "    .dataframe tbody tr th:only-of-type {\n",
              "        vertical-align: middle;\n",
              "    }\n",
              "\n",
              "    .dataframe tbody tr th {\n",
              "        vertical-align: top;\n",
              "    }\n",
              "\n",
              "    .dataframe thead th {\n",
              "        text-align: right;\n",
              "    }\n",
              "</style>\n",
              "<table border=\"1\" class=\"dataframe\">\n",
              "  <thead>\n",
              "    <tr style=\"text-align: right;\">\n",
              "      <th></th>\n",
              "      <th>FoodID</th>\n",
              "      <th>TranslatedRecipeName</th>\n",
              "      <th>keywords</th>\n",
              "      <th>preprocessed_keywords</th>\n",
              "    </tr>\n",
              "  </thead>\n",
              "  <tbody>\n",
              "    <tr>\n",
              "      <th>0</th>\n",
              "      <td>100</td>\n",
              "      <td>Masala Karela Recipe</td>\n",
              "      <td>salt amchurdrymangopowd karelabittergourdpavak...</td>\n",
              "      <td>[salt, amchurdrymangopowd, karelabittergourdpa...</td>\n",
              "    </tr>\n",
              "    <tr>\n",
              "      <th>1</th>\n",
              "      <td>101</td>\n",
              "      <td>Spicy Tomato Rice (Recipe)</td>\n",
              "      <td>tomato salt chickpealentil greenchilli rice mu...</td>\n",
              "      <td>[tomato, salt, chickpealentil, greenchilli, ri...</td>\n",
              "    </tr>\n",
              "    <tr>\n",
              "      <th>2</th>\n",
              "      <td>102</td>\n",
              "      <td>Ragi Semiya Upma Recipe - Ragi Millet Vermicel...</td>\n",
              "      <td>salt ricevermicellinoodlesthin asafoetidah mus...</td>\n",
              "      <td>[salt, ricevermicellinoodlesthin, asafoetidah,...</td>\n",
              "    </tr>\n",
              "    <tr>\n",
              "      <th>3</th>\n",
              "      <td>103</td>\n",
              "      <td>Gongura Chicken Curry Recipe - Andhra Style Go...</td>\n",
              "      <td>tomato salt ginger sorrelleavesgongura fennels...</td>\n",
              "      <td>[tomato, salt, ginger, sorrelleavesgongura, fe...</td>\n",
              "    </tr>\n",
              "    <tr>\n",
              "      <th>4</th>\n",
              "      <td>104</td>\n",
              "      <td>Andhra Style Alam Pachadi Recipe - Adrak Chutn...</td>\n",
              "      <td>tomato salt ginger redchilli curri asafoetida ...</td>\n",
              "      <td>[tomato, salt, ginger, redchilli, curri, asafo...</td>\n",
              "    </tr>\n",
              "    <tr>\n",
              "      <th>...</th>\n",
              "      <td>...</td>\n",
              "      <td>...</td>\n",
              "      <td>...</td>\n",
              "      <td>...</td>\n",
              "    </tr>\n",
              "    <tr>\n",
              "      <th>6033</th>\n",
              "      <td>96</td>\n",
              "      <td>Brown Sugar Oatmeal Pancakes</td>\n",
              "      <td>flour brownsugar bakingpowd milk egg oat american</td>\n",
              "      <td>[flour, brownsugar, bakingpowd, milk, egg, oat...</td>\n",
              "    </tr>\n",
              "    <tr>\n",
              "      <th>6034</th>\n",
              "      <td>97</td>\n",
              "      <td>Lime Chicken Tacos</td>\n",
              "      <td>chicken lime cumin salsa chees tortilla american</td>\n",
              "      <td>[chicken, lime, cumin, salsa, chees, tortilla,...</td>\n",
              "    </tr>\n",
              "    <tr>\n",
              "      <th>6035</th>\n",
              "      <td>98</td>\n",
              "      <td>Quick Cream of Mushroom Soup</td>\n",
              "      <td>onion garlic mushroom broth milk flour american</td>\n",
              "      <td>[onion, garlic, mushroom, broth, milk, flour, ...</td>\n",
              "    </tr>\n",
              "    <tr>\n",
              "      <th>6036</th>\n",
              "      <td>99</td>\n",
              "      <td>Egg Roll Noodle Bowl</td>\n",
              "      <td>ramennoodl cabbag carrot egg soysauc sesameoil...</td>\n",
              "      <td>[ramennoodl, cabbag, carrot, egg, soysauc, ses...</td>\n",
              "    </tr>\n",
              "    <tr>\n",
              "      <th>6037</th>\n",
              "      <td>100</td>\n",
              "      <td>Mamaw Emily’s Strawberry Cake</td>\n",
              "      <td>whitecakemix strawberri sugar butter egg american</td>\n",
              "      <td>[whitecakemix, strawberri, sugar, butter, egg,...</td>\n",
              "    </tr>\n",
              "  </tbody>\n",
              "</table>\n",
              "<p>6038 rows × 4 columns</p>\n",
              "</div>\n",
              "    <div class=\"colab-df-buttons\">\n",
              "\n",
              "  <div class=\"colab-df-container\">\n",
              "    <button class=\"colab-df-convert\" onclick=\"convertToInteractive('df-3b0fa0b3-ea7f-40fd-8b0b-f2372bc35bfe')\"\n",
              "            title=\"Convert this dataframe to an interactive table.\"\n",
              "            style=\"display:none;\">\n",
              "\n",
              "  <svg xmlns=\"http://www.w3.org/2000/svg\" height=\"24px\" viewBox=\"0 -960 960 960\">\n",
              "    <path d=\"M120-120v-720h720v720H120Zm60-500h600v-160H180v160Zm220 220h160v-160H400v160Zm0 220h160v-160H400v160ZM180-400h160v-160H180v160Zm440 0h160v-160H620v160ZM180-180h160v-160H180v160Zm440 0h160v-160H620v160Z\"/>\n",
              "  </svg>\n",
              "    </button>\n",
              "\n",
              "  <style>\n",
              "    .colab-df-container {\n",
              "      display:flex;\n",
              "      gap: 12px;\n",
              "    }\n",
              "\n",
              "    .colab-df-convert {\n",
              "      background-color: #E8F0FE;\n",
              "      border: none;\n",
              "      border-radius: 50%;\n",
              "      cursor: pointer;\n",
              "      display: none;\n",
              "      fill: #1967D2;\n",
              "      height: 32px;\n",
              "      padding: 0 0 0 0;\n",
              "      width: 32px;\n",
              "    }\n",
              "\n",
              "    .colab-df-convert:hover {\n",
              "      background-color: #E2EBFA;\n",
              "      box-shadow: 0px 1px 2px rgba(60, 64, 67, 0.3), 0px 1px 3px 1px rgba(60, 64, 67, 0.15);\n",
              "      fill: #174EA6;\n",
              "    }\n",
              "\n",
              "    .colab-df-buttons div {\n",
              "      margin-bottom: 4px;\n",
              "    }\n",
              "\n",
              "    [theme=dark] .colab-df-convert {\n",
              "      background-color: #3B4455;\n",
              "      fill: #D2E3FC;\n",
              "    }\n",
              "\n",
              "    [theme=dark] .colab-df-convert:hover {\n",
              "      background-color: #434B5C;\n",
              "      box-shadow: 0px 1px 3px 1px rgba(0, 0, 0, 0.15);\n",
              "      filter: drop-shadow(0px 1px 2px rgba(0, 0, 0, 0.3));\n",
              "      fill: #FFFFFF;\n",
              "    }\n",
              "  </style>\n",
              "\n",
              "    <script>\n",
              "      const buttonEl =\n",
              "        document.querySelector('#df-3b0fa0b3-ea7f-40fd-8b0b-f2372bc35bfe button.colab-df-convert');\n",
              "      buttonEl.style.display =\n",
              "        google.colab.kernel.accessAllowed ? 'block' : 'none';\n",
              "\n",
              "      async function convertToInteractive(key) {\n",
              "        const element = document.querySelector('#df-3b0fa0b3-ea7f-40fd-8b0b-f2372bc35bfe');\n",
              "        const dataTable =\n",
              "          await google.colab.kernel.invokeFunction('convertToInteractive',\n",
              "                                                    [key], {});\n",
              "        if (!dataTable) return;\n",
              "\n",
              "        const docLinkHtml = 'Like what you see? Visit the ' +\n",
              "          '<a target=\"_blank\" href=https://colab.research.google.com/notebooks/data_table.ipynb>data table notebook</a>'\n",
              "          + ' to learn more about interactive tables.';\n",
              "        element.innerHTML = '';\n",
              "        dataTable['output_type'] = 'display_data';\n",
              "        await google.colab.output.renderOutput(dataTable, element);\n",
              "        const docLink = document.createElement('div');\n",
              "        docLink.innerHTML = docLinkHtml;\n",
              "        element.appendChild(docLink);\n",
              "      }\n",
              "    </script>\n",
              "  </div>\n",
              "\n",
              "\n",
              "<div id=\"df-e021e2ba-baed-49df-b72a-a8ae55686439\">\n",
              "  <button class=\"colab-df-quickchart\" onclick=\"quickchart('df-e021e2ba-baed-49df-b72a-a8ae55686439')\"\n",
              "            title=\"Suggest charts\"\n",
              "            style=\"display:none;\">\n",
              "\n",
              "<svg xmlns=\"http://www.w3.org/2000/svg\" height=\"24px\"viewBox=\"0 0 24 24\"\n",
              "     width=\"24px\">\n",
              "    <g>\n",
              "        <path d=\"M19 3H5c-1.1 0-2 .9-2 2v14c0 1.1.9 2 2 2h14c1.1 0 2-.9 2-2V5c0-1.1-.9-2-2-2zM9 17H7v-7h2v7zm4 0h-2V7h2v10zm4 0h-2v-4h2v4z\"/>\n",
              "    </g>\n",
              "</svg>\n",
              "  </button>\n",
              "\n",
              "<style>\n",
              "  .colab-df-quickchart {\n",
              "      --bg-color: #E8F0FE;\n",
              "      --fill-color: #1967D2;\n",
              "      --hover-bg-color: #E2EBFA;\n",
              "      --hover-fill-color: #174EA6;\n",
              "      --disabled-fill-color: #AAA;\n",
              "      --disabled-bg-color: #DDD;\n",
              "  }\n",
              "\n",
              "  [theme=dark] .colab-df-quickchart {\n",
              "      --bg-color: #3B4455;\n",
              "      --fill-color: #D2E3FC;\n",
              "      --hover-bg-color: #434B5C;\n",
              "      --hover-fill-color: #FFFFFF;\n",
              "      --disabled-bg-color: #3B4455;\n",
              "      --disabled-fill-color: #666;\n",
              "  }\n",
              "\n",
              "  .colab-df-quickchart {\n",
              "    background-color: var(--bg-color);\n",
              "    border: none;\n",
              "    border-radius: 50%;\n",
              "    cursor: pointer;\n",
              "    display: none;\n",
              "    fill: var(--fill-color);\n",
              "    height: 32px;\n",
              "    padding: 0;\n",
              "    width: 32px;\n",
              "  }\n",
              "\n",
              "  .colab-df-quickchart:hover {\n",
              "    background-color: var(--hover-bg-color);\n",
              "    box-shadow: 0 1px 2px rgba(60, 64, 67, 0.3), 0 1px 3px 1px rgba(60, 64, 67, 0.15);\n",
              "    fill: var(--button-hover-fill-color);\n",
              "  }\n",
              "\n",
              "  .colab-df-quickchart-complete:disabled,\n",
              "  .colab-df-quickchart-complete:disabled:hover {\n",
              "    background-color: var(--disabled-bg-color);\n",
              "    fill: var(--disabled-fill-color);\n",
              "    box-shadow: none;\n",
              "  }\n",
              "\n",
              "  .colab-df-spinner {\n",
              "    border: 2px solid var(--fill-color);\n",
              "    border-color: transparent;\n",
              "    border-bottom-color: var(--fill-color);\n",
              "    animation:\n",
              "      spin 1s steps(1) infinite;\n",
              "  }\n",
              "\n",
              "  @keyframes spin {\n",
              "    0% {\n",
              "      border-color: transparent;\n",
              "      border-bottom-color: var(--fill-color);\n",
              "      border-left-color: var(--fill-color);\n",
              "    }\n",
              "    20% {\n",
              "      border-color: transparent;\n",
              "      border-left-color: var(--fill-color);\n",
              "      border-top-color: var(--fill-color);\n",
              "    }\n",
              "    30% {\n",
              "      border-color: transparent;\n",
              "      border-left-color: var(--fill-color);\n",
              "      border-top-color: var(--fill-color);\n",
              "      border-right-color: var(--fill-color);\n",
              "    }\n",
              "    40% {\n",
              "      border-color: transparent;\n",
              "      border-right-color: var(--fill-color);\n",
              "      border-top-color: var(--fill-color);\n",
              "    }\n",
              "    60% {\n",
              "      border-color: transparent;\n",
              "      border-right-color: var(--fill-color);\n",
              "    }\n",
              "    80% {\n",
              "      border-color: transparent;\n",
              "      border-right-color: var(--fill-color);\n",
              "      border-bottom-color: var(--fill-color);\n",
              "    }\n",
              "    90% {\n",
              "      border-color: transparent;\n",
              "      border-bottom-color: var(--fill-color);\n",
              "    }\n",
              "  }\n",
              "</style>\n",
              "\n",
              "  <script>\n",
              "    async function quickchart(key) {\n",
              "      const quickchartButtonEl =\n",
              "        document.querySelector('#' + key + ' button');\n",
              "      quickchartButtonEl.disabled = true;  // To prevent multiple clicks.\n",
              "      quickchartButtonEl.classList.add('colab-df-spinner');\n",
              "      try {\n",
              "        const charts = await google.colab.kernel.invokeFunction(\n",
              "            'suggestCharts', [key], {});\n",
              "      } catch (error) {\n",
              "        console.error('Error during call to suggestCharts:', error);\n",
              "      }\n",
              "      quickchartButtonEl.classList.remove('colab-df-spinner');\n",
              "      quickchartButtonEl.classList.add('colab-df-quickchart-complete');\n",
              "    }\n",
              "    (() => {\n",
              "      let quickchartButtonEl =\n",
              "        document.querySelector('#df-e021e2ba-baed-49df-b72a-a8ae55686439 button');\n",
              "      quickchartButtonEl.style.display =\n",
              "        google.colab.kernel.accessAllowed ? 'block' : 'none';\n",
              "    })();\n",
              "  </script>\n",
              "</div>\n",
              "\n",
              "  <div id=\"id_25426d4b-59fe-4daf-92fe-b683658aa493\">\n",
              "    <style>\n",
              "      .colab-df-generate {\n",
              "        background-color: #E8F0FE;\n",
              "        border: none;\n",
              "        border-radius: 50%;\n",
              "        cursor: pointer;\n",
              "        display: none;\n",
              "        fill: #1967D2;\n",
              "        height: 32px;\n",
              "        padding: 0 0 0 0;\n",
              "        width: 32px;\n",
              "      }\n",
              "\n",
              "      .colab-df-generate:hover {\n",
              "        background-color: #E2EBFA;\n",
              "        box-shadow: 0px 1px 2px rgba(60, 64, 67, 0.3), 0px 1px 3px 1px rgba(60, 64, 67, 0.15);\n",
              "        fill: #174EA6;\n",
              "      }\n",
              "\n",
              "      [theme=dark] .colab-df-generate {\n",
              "        background-color: #3B4455;\n",
              "        fill: #D2E3FC;\n",
              "      }\n",
              "\n",
              "      [theme=dark] .colab-df-generate:hover {\n",
              "        background-color: #434B5C;\n",
              "        box-shadow: 0px 1px 3px 1px rgba(0, 0, 0, 0.15);\n",
              "        filter: drop-shadow(0px 1px 2px rgba(0, 0, 0, 0.3));\n",
              "        fill: #FFFFFF;\n",
              "      }\n",
              "    </style>\n",
              "    <button class=\"colab-df-generate\" onclick=\"generateWithVariable('data_frame')\"\n",
              "            title=\"Generate code using this dataframe.\"\n",
              "            style=\"display:none;\">\n",
              "\n",
              "  <svg xmlns=\"http://www.w3.org/2000/svg\" height=\"24px\"viewBox=\"0 0 24 24\"\n",
              "       width=\"24px\">\n",
              "    <path d=\"M7,19H8.4L18.45,9,17,7.55,7,17.6ZM5,21V16.75L18.45,3.32a2,2,0,0,1,2.83,0l1.4,1.43a1.91,1.91,0,0,1,.58,1.4,1.91,1.91,0,0,1-.58,1.4L9.25,21ZM18.45,9,17,7.55Zm-12,3A5.31,5.31,0,0,0,4.9,8.1,5.31,5.31,0,0,0,1,6.5,5.31,5.31,0,0,0,4.9,4.9,5.31,5.31,0,0,0,6.5,1,5.31,5.31,0,0,0,8.1,4.9,5.31,5.31,0,0,0,12,6.5,5.46,5.46,0,0,0,6.5,12Z\"/>\n",
              "  </svg>\n",
              "    </button>\n",
              "    <script>\n",
              "      (() => {\n",
              "      const buttonEl =\n",
              "        document.querySelector('#id_25426d4b-59fe-4daf-92fe-b683658aa493 button.colab-df-generate');\n",
              "      buttonEl.style.display =\n",
              "        google.colab.kernel.accessAllowed ? 'block' : 'none';\n",
              "\n",
              "      buttonEl.onclick = () => {\n",
              "        google.colab.notebook.generateWithVariable('data_frame');\n",
              "      }\n",
              "      })();\n",
              "    </script>\n",
              "  </div>\n",
              "\n",
              "    </div>\n",
              "  </div>\n"
            ]
          },
          "metadata": {},
          "execution_count": 129
        }
      ]
    },
    {
      "cell_type": "code",
      "source": [
        "data_frame['TranslatedRecipeName'] == 'Masala Karela Recipe'"
      ],
      "metadata": {
        "colab": {
          "base_uri": "https://localhost:8080/"
        },
        "id": "vNtpvP39TOSV",
        "outputId": "dffe5ba7-7bbb-44d2-d144-33e26f7a819a"
      },
      "execution_count": null,
      "outputs": [
        {
          "output_type": "execute_result",
          "data": {
            "text/plain": [
              "0        True\n",
              "1       False\n",
              "2       False\n",
              "3       False\n",
              "4       False\n",
              "        ...  \n",
              "6033    False\n",
              "6034    False\n",
              "6035    False\n",
              "6036    False\n",
              "6037    False\n",
              "Name: TranslatedRecipeName, Length: 6038, dtype: bool"
            ]
          },
          "metadata": {},
          "execution_count": 130
        }
      ]
    },
    {
      "cell_type": "markdown",
      "source": [
        "application"
      ],
      "metadata": {
        "id": "q45T0W4TZTNf"
      }
    },
    {
      "cell_type": "code",
      "source": [
        "#list(enumerate(cosine_sim_matrix[0])) #relationship of one food to other"
      ],
      "metadata": {
        "id": "Fta7an6ASnEq"
      },
      "execution_count": null,
      "outputs": []
    },
    {
      "cell_type": "code",
      "source": [
        "def recommend(food):\n",
        "  food_index = data_frame[data_frame['TranslatedRecipeName'] == food].index[0]\n",
        "  distances = cosine_sim_matrix[food_index]\n",
        "  food_list = sorted(list(enumerate(distances)), reverse = True, key=lambda x:x[1])[1:21]\n",
        "\n",
        "  for i in food_list:\n",
        "    print(i[0], data_frame.iloc[i[0]].TranslatedRecipeName)\n"
      ],
      "metadata": {
        "id": "G5S_PoT8Odjb"
      },
      "execution_count": null,
      "outputs": []
    },
    {
      "cell_type": "code",
      "source": [
        "recommend('Lime Chicken Tacos')"
      ],
      "metadata": {
        "colab": {
          "base_uri": "https://localhost:8080/"
        },
        "id": "1He8MTg8Rio0",
        "outputId": "854cb0b2-5e89-43f5-ad86-e8b241c670f0"
      },
      "execution_count": null,
      "outputs": [
        {
          "output_type": "stream",
          "name": "stdout",
          "text": [
            "6007 Easy Chicken Enchiladas\n",
            "6022 Chicken Penne Casserole\n",
            "6015 Creamy Macaroni and Cheese\n",
            "6020 Comforting Chicken Noodle Soup\n",
            "6006 White Bean Chicken Chili\n",
            "6024 Twice-Baked Potato Casserole\n",
            "1182 Chicken Burrito Recipe\n",
            "3173 Chicken Ranch Wraps Recipe\n",
            "5974 Taco Lasagna\n",
            "231 Palak Paneer Bhurji Recipe - Palak Paneer Bhurji Recipe\n",
            "5982 Black Bean â€˜nâ€™ Pumpkin Chili\n",
            "732 Chilli Paneer Quesadilla Recipe\n",
            "3387 Mexican Style Red Chicken Chilaquiles Recipe\n",
            "3904 Grilled Quesadillas Recipe With Chilli Mushroom & Corn\n",
            "6000 Chicken and Dumplings\n",
            "6004 Chicken Wild Rice Soup\n",
            "6017 Homemade Peanut Butter Cups\n",
            "6019 Ravioli Lasagna\n",
            "6023 First-Place Coconut Macaroons\n",
            "6026 Porcupine Meatballs\n"
          ]
        }
      ]
    },
    {
      "cell_type": "code",
      "source": [],
      "metadata": {
        "id": "EnvKnuiwRp8d"
      },
      "execution_count": null,
      "outputs": []
    }
  ]
}